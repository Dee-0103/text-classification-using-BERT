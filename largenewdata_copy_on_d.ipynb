{
  "nbformat": 4,
  "nbformat_minor": 0,
  "metadata": {
    "colab": {
      "provenance": [],
      "gpuType": "T4"
    },
    "kernelspec": {
      "name": "python3",
      "display_name": "Python 3"
    },
    "language_info": {
      "name": "python"
    },
    "accelerator": "GPU",
    "widgets": {
      "application/vnd.jupyter.widget-state+json": {
        "6be637d5faf24d2d91f9e58e1e298ccd": {
          "model_module": "@jupyter-widgets/controls",
          "model_name": "HBoxModel",
          "model_module_version": "1.5.0",
          "state": {
            "_dom_classes": [],
            "_model_module": "@jupyter-widgets/controls",
            "_model_module_version": "1.5.0",
            "_model_name": "HBoxModel",
            "_view_count": null,
            "_view_module": "@jupyter-widgets/controls",
            "_view_module_version": "1.5.0",
            "_view_name": "HBoxView",
            "box_style": "",
            "children": [
              "IPY_MODEL_99175bd641254b6f995ac14c5cb79142",
              "IPY_MODEL_6f9efac388024369980b1b20a2c597b2",
              "IPY_MODEL_8db1895b5bcd498c8e41093225ed32a9"
            ],
            "layout": "IPY_MODEL_ab62332f730e46dcbdefd31bea28d067"
          }
        },
        "99175bd641254b6f995ac14c5cb79142": {
          "model_module": "@jupyter-widgets/controls",
          "model_name": "HTMLModel",
          "model_module_version": "1.5.0",
          "state": {
            "_dom_classes": [],
            "_model_module": "@jupyter-widgets/controls",
            "_model_module_version": "1.5.0",
            "_model_name": "HTMLModel",
            "_view_count": null,
            "_view_module": "@jupyter-widgets/controls",
            "_view_module_version": "1.5.0",
            "_view_name": "HTMLView",
            "description": "",
            "description_tooltip": null,
            "layout": "IPY_MODEL_6001338b67a34bb889f3383c935ded55",
            "placeholder": "​",
            "style": "IPY_MODEL_e92ea71e8d83450d9a42ea1b84cfec80",
            "value": "tokenizer_config.json: 100%"
          }
        },
        "6f9efac388024369980b1b20a2c597b2": {
          "model_module": "@jupyter-widgets/controls",
          "model_name": "FloatProgressModel",
          "model_module_version": "1.5.0",
          "state": {
            "_dom_classes": [],
            "_model_module": "@jupyter-widgets/controls",
            "_model_module_version": "1.5.0",
            "_model_name": "FloatProgressModel",
            "_view_count": null,
            "_view_module": "@jupyter-widgets/controls",
            "_view_module_version": "1.5.0",
            "_view_name": "ProgressView",
            "bar_style": "success",
            "description": "",
            "description_tooltip": null,
            "layout": "IPY_MODEL_8b989c9aea1e4ff58ca063702beffb20",
            "max": 28,
            "min": 0,
            "orientation": "horizontal",
            "style": "IPY_MODEL_e8db0e1f3b894e559704d2cf970000a1",
            "value": 28
          }
        },
        "8db1895b5bcd498c8e41093225ed32a9": {
          "model_module": "@jupyter-widgets/controls",
          "model_name": "HTMLModel",
          "model_module_version": "1.5.0",
          "state": {
            "_dom_classes": [],
            "_model_module": "@jupyter-widgets/controls",
            "_model_module_version": "1.5.0",
            "_model_name": "HTMLModel",
            "_view_count": null,
            "_view_module": "@jupyter-widgets/controls",
            "_view_module_version": "1.5.0",
            "_view_name": "HTMLView",
            "description": "",
            "description_tooltip": null,
            "layout": "IPY_MODEL_aaf50614809844a59d64ec8b91d641e8",
            "placeholder": "​",
            "style": "IPY_MODEL_86916c5cc5af4ab0808633a1beb1c4e0",
            "value": " 28.0/28.0 [00:00&lt;00:00, 609B/s]"
          }
        },
        "ab62332f730e46dcbdefd31bea28d067": {
          "model_module": "@jupyter-widgets/base",
          "model_name": "LayoutModel",
          "model_module_version": "1.2.0",
          "state": {
            "_model_module": "@jupyter-widgets/base",
            "_model_module_version": "1.2.0",
            "_model_name": "LayoutModel",
            "_view_count": null,
            "_view_module": "@jupyter-widgets/base",
            "_view_module_version": "1.2.0",
            "_view_name": "LayoutView",
            "align_content": null,
            "align_items": null,
            "align_self": null,
            "border": null,
            "bottom": null,
            "display": null,
            "flex": null,
            "flex_flow": null,
            "grid_area": null,
            "grid_auto_columns": null,
            "grid_auto_flow": null,
            "grid_auto_rows": null,
            "grid_column": null,
            "grid_gap": null,
            "grid_row": null,
            "grid_template_areas": null,
            "grid_template_columns": null,
            "grid_template_rows": null,
            "height": null,
            "justify_content": null,
            "justify_items": null,
            "left": null,
            "margin": null,
            "max_height": null,
            "max_width": null,
            "min_height": null,
            "min_width": null,
            "object_fit": null,
            "object_position": null,
            "order": null,
            "overflow": null,
            "overflow_x": null,
            "overflow_y": null,
            "padding": null,
            "right": null,
            "top": null,
            "visibility": null,
            "width": null
          }
        },
        "6001338b67a34bb889f3383c935ded55": {
          "model_module": "@jupyter-widgets/base",
          "model_name": "LayoutModel",
          "model_module_version": "1.2.0",
          "state": {
            "_model_module": "@jupyter-widgets/base",
            "_model_module_version": "1.2.0",
            "_model_name": "LayoutModel",
            "_view_count": null,
            "_view_module": "@jupyter-widgets/base",
            "_view_module_version": "1.2.0",
            "_view_name": "LayoutView",
            "align_content": null,
            "align_items": null,
            "align_self": null,
            "border": null,
            "bottom": null,
            "display": null,
            "flex": null,
            "flex_flow": null,
            "grid_area": null,
            "grid_auto_columns": null,
            "grid_auto_flow": null,
            "grid_auto_rows": null,
            "grid_column": null,
            "grid_gap": null,
            "grid_row": null,
            "grid_template_areas": null,
            "grid_template_columns": null,
            "grid_template_rows": null,
            "height": null,
            "justify_content": null,
            "justify_items": null,
            "left": null,
            "margin": null,
            "max_height": null,
            "max_width": null,
            "min_height": null,
            "min_width": null,
            "object_fit": null,
            "object_position": null,
            "order": null,
            "overflow": null,
            "overflow_x": null,
            "overflow_y": null,
            "padding": null,
            "right": null,
            "top": null,
            "visibility": null,
            "width": null
          }
        },
        "e92ea71e8d83450d9a42ea1b84cfec80": {
          "model_module": "@jupyter-widgets/controls",
          "model_name": "DescriptionStyleModel",
          "model_module_version": "1.5.0",
          "state": {
            "_model_module": "@jupyter-widgets/controls",
            "_model_module_version": "1.5.0",
            "_model_name": "DescriptionStyleModel",
            "_view_count": null,
            "_view_module": "@jupyter-widgets/base",
            "_view_module_version": "1.2.0",
            "_view_name": "StyleView",
            "description_width": ""
          }
        },
        "8b989c9aea1e4ff58ca063702beffb20": {
          "model_module": "@jupyter-widgets/base",
          "model_name": "LayoutModel",
          "model_module_version": "1.2.0",
          "state": {
            "_model_module": "@jupyter-widgets/base",
            "_model_module_version": "1.2.0",
            "_model_name": "LayoutModel",
            "_view_count": null,
            "_view_module": "@jupyter-widgets/base",
            "_view_module_version": "1.2.0",
            "_view_name": "LayoutView",
            "align_content": null,
            "align_items": null,
            "align_self": null,
            "border": null,
            "bottom": null,
            "display": null,
            "flex": null,
            "flex_flow": null,
            "grid_area": null,
            "grid_auto_columns": null,
            "grid_auto_flow": null,
            "grid_auto_rows": null,
            "grid_column": null,
            "grid_gap": null,
            "grid_row": null,
            "grid_template_areas": null,
            "grid_template_columns": null,
            "grid_template_rows": null,
            "height": null,
            "justify_content": null,
            "justify_items": null,
            "left": null,
            "margin": null,
            "max_height": null,
            "max_width": null,
            "min_height": null,
            "min_width": null,
            "object_fit": null,
            "object_position": null,
            "order": null,
            "overflow": null,
            "overflow_x": null,
            "overflow_y": null,
            "padding": null,
            "right": null,
            "top": null,
            "visibility": null,
            "width": null
          }
        },
        "e8db0e1f3b894e559704d2cf970000a1": {
          "model_module": "@jupyter-widgets/controls",
          "model_name": "ProgressStyleModel",
          "model_module_version": "1.5.0",
          "state": {
            "_model_module": "@jupyter-widgets/controls",
            "_model_module_version": "1.5.0",
            "_model_name": "ProgressStyleModel",
            "_view_count": null,
            "_view_module": "@jupyter-widgets/base",
            "_view_module_version": "1.2.0",
            "_view_name": "StyleView",
            "bar_color": null,
            "description_width": ""
          }
        },
        "aaf50614809844a59d64ec8b91d641e8": {
          "model_module": "@jupyter-widgets/base",
          "model_name": "LayoutModel",
          "model_module_version": "1.2.0",
          "state": {
            "_model_module": "@jupyter-widgets/base",
            "_model_module_version": "1.2.0",
            "_model_name": "LayoutModel",
            "_view_count": null,
            "_view_module": "@jupyter-widgets/base",
            "_view_module_version": "1.2.0",
            "_view_name": "LayoutView",
            "align_content": null,
            "align_items": null,
            "align_self": null,
            "border": null,
            "bottom": null,
            "display": null,
            "flex": null,
            "flex_flow": null,
            "grid_area": null,
            "grid_auto_columns": null,
            "grid_auto_flow": null,
            "grid_auto_rows": null,
            "grid_column": null,
            "grid_gap": null,
            "grid_row": null,
            "grid_template_areas": null,
            "grid_template_columns": null,
            "grid_template_rows": null,
            "height": null,
            "justify_content": null,
            "justify_items": null,
            "left": null,
            "margin": null,
            "max_height": null,
            "max_width": null,
            "min_height": null,
            "min_width": null,
            "object_fit": null,
            "object_position": null,
            "order": null,
            "overflow": null,
            "overflow_x": null,
            "overflow_y": null,
            "padding": null,
            "right": null,
            "top": null,
            "visibility": null,
            "width": null
          }
        },
        "86916c5cc5af4ab0808633a1beb1c4e0": {
          "model_module": "@jupyter-widgets/controls",
          "model_name": "DescriptionStyleModel",
          "model_module_version": "1.5.0",
          "state": {
            "_model_module": "@jupyter-widgets/controls",
            "_model_module_version": "1.5.0",
            "_model_name": "DescriptionStyleModel",
            "_view_count": null,
            "_view_module": "@jupyter-widgets/base",
            "_view_module_version": "1.2.0",
            "_view_name": "StyleView",
            "description_width": ""
          }
        },
        "22b6934e2a354a409bfd0b5b58bea5af": {
          "model_module": "@jupyter-widgets/controls",
          "model_name": "HBoxModel",
          "model_module_version": "1.5.0",
          "state": {
            "_dom_classes": [],
            "_model_module": "@jupyter-widgets/controls",
            "_model_module_version": "1.5.0",
            "_model_name": "HBoxModel",
            "_view_count": null,
            "_view_module": "@jupyter-widgets/controls",
            "_view_module_version": "1.5.0",
            "_view_name": "HBoxView",
            "box_style": "",
            "children": [
              "IPY_MODEL_f16e044e0b5848a2946647ab46c83011",
              "IPY_MODEL_18d749883536468083aa6cbc735b21fb",
              "IPY_MODEL_355ad25fbd474c9b9fdc5b65fb521747"
            ],
            "layout": "IPY_MODEL_365eb8e5522346bd945c9a585b6a17e1"
          }
        },
        "f16e044e0b5848a2946647ab46c83011": {
          "model_module": "@jupyter-widgets/controls",
          "model_name": "HTMLModel",
          "model_module_version": "1.5.0",
          "state": {
            "_dom_classes": [],
            "_model_module": "@jupyter-widgets/controls",
            "_model_module_version": "1.5.0",
            "_model_name": "HTMLModel",
            "_view_count": null,
            "_view_module": "@jupyter-widgets/controls",
            "_view_module_version": "1.5.0",
            "_view_name": "HTMLView",
            "description": "",
            "description_tooltip": null,
            "layout": "IPY_MODEL_7bdd10fb5b1c4d0297bf35313b6257de",
            "placeholder": "​",
            "style": "IPY_MODEL_3325e1d25fd74f26ad0e9ae8f3e6a31e",
            "value": "vocab.txt: 100%"
          }
        },
        "18d749883536468083aa6cbc735b21fb": {
          "model_module": "@jupyter-widgets/controls",
          "model_name": "FloatProgressModel",
          "model_module_version": "1.5.0",
          "state": {
            "_dom_classes": [],
            "_model_module": "@jupyter-widgets/controls",
            "_model_module_version": "1.5.0",
            "_model_name": "FloatProgressModel",
            "_view_count": null,
            "_view_module": "@jupyter-widgets/controls",
            "_view_module_version": "1.5.0",
            "_view_name": "ProgressView",
            "bar_style": "success",
            "description": "",
            "description_tooltip": null,
            "layout": "IPY_MODEL_eff5a736638d47bb894d486499b4af07",
            "max": 231508,
            "min": 0,
            "orientation": "horizontal",
            "style": "IPY_MODEL_29fba7aae8aa4246bea76d3ed611b2ef",
            "value": 231508
          }
        },
        "355ad25fbd474c9b9fdc5b65fb521747": {
          "model_module": "@jupyter-widgets/controls",
          "model_name": "HTMLModel",
          "model_module_version": "1.5.0",
          "state": {
            "_dom_classes": [],
            "_model_module": "@jupyter-widgets/controls",
            "_model_module_version": "1.5.0",
            "_model_name": "HTMLModel",
            "_view_count": null,
            "_view_module": "@jupyter-widgets/controls",
            "_view_module_version": "1.5.0",
            "_view_name": "HTMLView",
            "description": "",
            "description_tooltip": null,
            "layout": "IPY_MODEL_102209866a134952bb3e3335a0621adb",
            "placeholder": "​",
            "style": "IPY_MODEL_17a2d84d4beb41258f0fc0d4e4919de6",
            "value": " 232k/232k [00:00&lt;00:00, 2.70MB/s]"
          }
        },
        "365eb8e5522346bd945c9a585b6a17e1": {
          "model_module": "@jupyter-widgets/base",
          "model_name": "LayoutModel",
          "model_module_version": "1.2.0",
          "state": {
            "_model_module": "@jupyter-widgets/base",
            "_model_module_version": "1.2.0",
            "_model_name": "LayoutModel",
            "_view_count": null,
            "_view_module": "@jupyter-widgets/base",
            "_view_module_version": "1.2.0",
            "_view_name": "LayoutView",
            "align_content": null,
            "align_items": null,
            "align_self": null,
            "border": null,
            "bottom": null,
            "display": null,
            "flex": null,
            "flex_flow": null,
            "grid_area": null,
            "grid_auto_columns": null,
            "grid_auto_flow": null,
            "grid_auto_rows": null,
            "grid_column": null,
            "grid_gap": null,
            "grid_row": null,
            "grid_template_areas": null,
            "grid_template_columns": null,
            "grid_template_rows": null,
            "height": null,
            "justify_content": null,
            "justify_items": null,
            "left": null,
            "margin": null,
            "max_height": null,
            "max_width": null,
            "min_height": null,
            "min_width": null,
            "object_fit": null,
            "object_position": null,
            "order": null,
            "overflow": null,
            "overflow_x": null,
            "overflow_y": null,
            "padding": null,
            "right": null,
            "top": null,
            "visibility": null,
            "width": null
          }
        },
        "7bdd10fb5b1c4d0297bf35313b6257de": {
          "model_module": "@jupyter-widgets/base",
          "model_name": "LayoutModel",
          "model_module_version": "1.2.0",
          "state": {
            "_model_module": "@jupyter-widgets/base",
            "_model_module_version": "1.2.0",
            "_model_name": "LayoutModel",
            "_view_count": null,
            "_view_module": "@jupyter-widgets/base",
            "_view_module_version": "1.2.0",
            "_view_name": "LayoutView",
            "align_content": null,
            "align_items": null,
            "align_self": null,
            "border": null,
            "bottom": null,
            "display": null,
            "flex": null,
            "flex_flow": null,
            "grid_area": null,
            "grid_auto_columns": null,
            "grid_auto_flow": null,
            "grid_auto_rows": null,
            "grid_column": null,
            "grid_gap": null,
            "grid_row": null,
            "grid_template_areas": null,
            "grid_template_columns": null,
            "grid_template_rows": null,
            "height": null,
            "justify_content": null,
            "justify_items": null,
            "left": null,
            "margin": null,
            "max_height": null,
            "max_width": null,
            "min_height": null,
            "min_width": null,
            "object_fit": null,
            "object_position": null,
            "order": null,
            "overflow": null,
            "overflow_x": null,
            "overflow_y": null,
            "padding": null,
            "right": null,
            "top": null,
            "visibility": null,
            "width": null
          }
        },
        "3325e1d25fd74f26ad0e9ae8f3e6a31e": {
          "model_module": "@jupyter-widgets/controls",
          "model_name": "DescriptionStyleModel",
          "model_module_version": "1.5.0",
          "state": {
            "_model_module": "@jupyter-widgets/controls",
            "_model_module_version": "1.5.0",
            "_model_name": "DescriptionStyleModel",
            "_view_count": null,
            "_view_module": "@jupyter-widgets/base",
            "_view_module_version": "1.2.0",
            "_view_name": "StyleView",
            "description_width": ""
          }
        },
        "eff5a736638d47bb894d486499b4af07": {
          "model_module": "@jupyter-widgets/base",
          "model_name": "LayoutModel",
          "model_module_version": "1.2.0",
          "state": {
            "_model_module": "@jupyter-widgets/base",
            "_model_module_version": "1.2.0",
            "_model_name": "LayoutModel",
            "_view_count": null,
            "_view_module": "@jupyter-widgets/base",
            "_view_module_version": "1.2.0",
            "_view_name": "LayoutView",
            "align_content": null,
            "align_items": null,
            "align_self": null,
            "border": null,
            "bottom": null,
            "display": null,
            "flex": null,
            "flex_flow": null,
            "grid_area": null,
            "grid_auto_columns": null,
            "grid_auto_flow": null,
            "grid_auto_rows": null,
            "grid_column": null,
            "grid_gap": null,
            "grid_row": null,
            "grid_template_areas": null,
            "grid_template_columns": null,
            "grid_template_rows": null,
            "height": null,
            "justify_content": null,
            "justify_items": null,
            "left": null,
            "margin": null,
            "max_height": null,
            "max_width": null,
            "min_height": null,
            "min_width": null,
            "object_fit": null,
            "object_position": null,
            "order": null,
            "overflow": null,
            "overflow_x": null,
            "overflow_y": null,
            "padding": null,
            "right": null,
            "top": null,
            "visibility": null,
            "width": null
          }
        },
        "29fba7aae8aa4246bea76d3ed611b2ef": {
          "model_module": "@jupyter-widgets/controls",
          "model_name": "ProgressStyleModel",
          "model_module_version": "1.5.0",
          "state": {
            "_model_module": "@jupyter-widgets/controls",
            "_model_module_version": "1.5.0",
            "_model_name": "ProgressStyleModel",
            "_view_count": null,
            "_view_module": "@jupyter-widgets/base",
            "_view_module_version": "1.2.0",
            "_view_name": "StyleView",
            "bar_color": null,
            "description_width": ""
          }
        },
        "102209866a134952bb3e3335a0621adb": {
          "model_module": "@jupyter-widgets/base",
          "model_name": "LayoutModel",
          "model_module_version": "1.2.0",
          "state": {
            "_model_module": "@jupyter-widgets/base",
            "_model_module_version": "1.2.0",
            "_model_name": "LayoutModel",
            "_view_count": null,
            "_view_module": "@jupyter-widgets/base",
            "_view_module_version": "1.2.0",
            "_view_name": "LayoutView",
            "align_content": null,
            "align_items": null,
            "align_self": null,
            "border": null,
            "bottom": null,
            "display": null,
            "flex": null,
            "flex_flow": null,
            "grid_area": null,
            "grid_auto_columns": null,
            "grid_auto_flow": null,
            "grid_auto_rows": null,
            "grid_column": null,
            "grid_gap": null,
            "grid_row": null,
            "grid_template_areas": null,
            "grid_template_columns": null,
            "grid_template_rows": null,
            "height": null,
            "justify_content": null,
            "justify_items": null,
            "left": null,
            "margin": null,
            "max_height": null,
            "max_width": null,
            "min_height": null,
            "min_width": null,
            "object_fit": null,
            "object_position": null,
            "order": null,
            "overflow": null,
            "overflow_x": null,
            "overflow_y": null,
            "padding": null,
            "right": null,
            "top": null,
            "visibility": null,
            "width": null
          }
        },
        "17a2d84d4beb41258f0fc0d4e4919de6": {
          "model_module": "@jupyter-widgets/controls",
          "model_name": "DescriptionStyleModel",
          "model_module_version": "1.5.0",
          "state": {
            "_model_module": "@jupyter-widgets/controls",
            "_model_module_version": "1.5.0",
            "_model_name": "DescriptionStyleModel",
            "_view_count": null,
            "_view_module": "@jupyter-widgets/base",
            "_view_module_version": "1.2.0",
            "_view_name": "StyleView",
            "description_width": ""
          }
        },
        "7acaf3904aa742f6ae531130e3061306": {
          "model_module": "@jupyter-widgets/controls",
          "model_name": "HBoxModel",
          "model_module_version": "1.5.0",
          "state": {
            "_dom_classes": [],
            "_model_module": "@jupyter-widgets/controls",
            "_model_module_version": "1.5.0",
            "_model_name": "HBoxModel",
            "_view_count": null,
            "_view_module": "@jupyter-widgets/controls",
            "_view_module_version": "1.5.0",
            "_view_name": "HBoxView",
            "box_style": "",
            "children": [
              "IPY_MODEL_6a2526297035422ba0b71fc07ac84c80",
              "IPY_MODEL_20a94ba9afb948d0a8b6bd03465aaebb",
              "IPY_MODEL_a0e3ea049fe14cd8a6ddd15686f7b523"
            ],
            "layout": "IPY_MODEL_fe2356f243194fbf9daae39dc77107d2"
          }
        },
        "6a2526297035422ba0b71fc07ac84c80": {
          "model_module": "@jupyter-widgets/controls",
          "model_name": "HTMLModel",
          "model_module_version": "1.5.0",
          "state": {
            "_dom_classes": [],
            "_model_module": "@jupyter-widgets/controls",
            "_model_module_version": "1.5.0",
            "_model_name": "HTMLModel",
            "_view_count": null,
            "_view_module": "@jupyter-widgets/controls",
            "_view_module_version": "1.5.0",
            "_view_name": "HTMLView",
            "description": "",
            "description_tooltip": null,
            "layout": "IPY_MODEL_f7a832efa3b140648c521049b20c9e66",
            "placeholder": "​",
            "style": "IPY_MODEL_626b024be5ca4f6f988fb79e7ea84e61",
            "value": "tokenizer.json: 100%"
          }
        },
        "20a94ba9afb948d0a8b6bd03465aaebb": {
          "model_module": "@jupyter-widgets/controls",
          "model_name": "FloatProgressModel",
          "model_module_version": "1.5.0",
          "state": {
            "_dom_classes": [],
            "_model_module": "@jupyter-widgets/controls",
            "_model_module_version": "1.5.0",
            "_model_name": "FloatProgressModel",
            "_view_count": null,
            "_view_module": "@jupyter-widgets/controls",
            "_view_module_version": "1.5.0",
            "_view_name": "ProgressView",
            "bar_style": "success",
            "description": "",
            "description_tooltip": null,
            "layout": "IPY_MODEL_c232989dd35b4163bc0de3a55ac4a12a",
            "max": 466062,
            "min": 0,
            "orientation": "horizontal",
            "style": "IPY_MODEL_c90bd14c3fe7431fbb5fde3594d6739b",
            "value": 466062
          }
        },
        "a0e3ea049fe14cd8a6ddd15686f7b523": {
          "model_module": "@jupyter-widgets/controls",
          "model_name": "HTMLModel",
          "model_module_version": "1.5.0",
          "state": {
            "_dom_classes": [],
            "_model_module": "@jupyter-widgets/controls",
            "_model_module_version": "1.5.0",
            "_model_name": "HTMLModel",
            "_view_count": null,
            "_view_module": "@jupyter-widgets/controls",
            "_view_module_version": "1.5.0",
            "_view_name": "HTMLView",
            "description": "",
            "description_tooltip": null,
            "layout": "IPY_MODEL_5b771f6774e245cd80e2342f5b48dadb",
            "placeholder": "​",
            "style": "IPY_MODEL_c6566357e94a49bba7d3613e7f514b55",
            "value": " 466k/466k [00:00&lt;00:00, 2.38MB/s]"
          }
        },
        "fe2356f243194fbf9daae39dc77107d2": {
          "model_module": "@jupyter-widgets/base",
          "model_name": "LayoutModel",
          "model_module_version": "1.2.0",
          "state": {
            "_model_module": "@jupyter-widgets/base",
            "_model_module_version": "1.2.0",
            "_model_name": "LayoutModel",
            "_view_count": null,
            "_view_module": "@jupyter-widgets/base",
            "_view_module_version": "1.2.0",
            "_view_name": "LayoutView",
            "align_content": null,
            "align_items": null,
            "align_self": null,
            "border": null,
            "bottom": null,
            "display": null,
            "flex": null,
            "flex_flow": null,
            "grid_area": null,
            "grid_auto_columns": null,
            "grid_auto_flow": null,
            "grid_auto_rows": null,
            "grid_column": null,
            "grid_gap": null,
            "grid_row": null,
            "grid_template_areas": null,
            "grid_template_columns": null,
            "grid_template_rows": null,
            "height": null,
            "justify_content": null,
            "justify_items": null,
            "left": null,
            "margin": null,
            "max_height": null,
            "max_width": null,
            "min_height": null,
            "min_width": null,
            "object_fit": null,
            "object_position": null,
            "order": null,
            "overflow": null,
            "overflow_x": null,
            "overflow_y": null,
            "padding": null,
            "right": null,
            "top": null,
            "visibility": null,
            "width": null
          }
        },
        "f7a832efa3b140648c521049b20c9e66": {
          "model_module": "@jupyter-widgets/base",
          "model_name": "LayoutModel",
          "model_module_version": "1.2.0",
          "state": {
            "_model_module": "@jupyter-widgets/base",
            "_model_module_version": "1.2.0",
            "_model_name": "LayoutModel",
            "_view_count": null,
            "_view_module": "@jupyter-widgets/base",
            "_view_module_version": "1.2.0",
            "_view_name": "LayoutView",
            "align_content": null,
            "align_items": null,
            "align_self": null,
            "border": null,
            "bottom": null,
            "display": null,
            "flex": null,
            "flex_flow": null,
            "grid_area": null,
            "grid_auto_columns": null,
            "grid_auto_flow": null,
            "grid_auto_rows": null,
            "grid_column": null,
            "grid_gap": null,
            "grid_row": null,
            "grid_template_areas": null,
            "grid_template_columns": null,
            "grid_template_rows": null,
            "height": null,
            "justify_content": null,
            "justify_items": null,
            "left": null,
            "margin": null,
            "max_height": null,
            "max_width": null,
            "min_height": null,
            "min_width": null,
            "object_fit": null,
            "object_position": null,
            "order": null,
            "overflow": null,
            "overflow_x": null,
            "overflow_y": null,
            "padding": null,
            "right": null,
            "top": null,
            "visibility": null,
            "width": null
          }
        },
        "626b024be5ca4f6f988fb79e7ea84e61": {
          "model_module": "@jupyter-widgets/controls",
          "model_name": "DescriptionStyleModel",
          "model_module_version": "1.5.0",
          "state": {
            "_model_module": "@jupyter-widgets/controls",
            "_model_module_version": "1.5.0",
            "_model_name": "DescriptionStyleModel",
            "_view_count": null,
            "_view_module": "@jupyter-widgets/base",
            "_view_module_version": "1.2.0",
            "_view_name": "StyleView",
            "description_width": ""
          }
        },
        "c232989dd35b4163bc0de3a55ac4a12a": {
          "model_module": "@jupyter-widgets/base",
          "model_name": "LayoutModel",
          "model_module_version": "1.2.0",
          "state": {
            "_model_module": "@jupyter-widgets/base",
            "_model_module_version": "1.2.0",
            "_model_name": "LayoutModel",
            "_view_count": null,
            "_view_module": "@jupyter-widgets/base",
            "_view_module_version": "1.2.0",
            "_view_name": "LayoutView",
            "align_content": null,
            "align_items": null,
            "align_self": null,
            "border": null,
            "bottom": null,
            "display": null,
            "flex": null,
            "flex_flow": null,
            "grid_area": null,
            "grid_auto_columns": null,
            "grid_auto_flow": null,
            "grid_auto_rows": null,
            "grid_column": null,
            "grid_gap": null,
            "grid_row": null,
            "grid_template_areas": null,
            "grid_template_columns": null,
            "grid_template_rows": null,
            "height": null,
            "justify_content": null,
            "justify_items": null,
            "left": null,
            "margin": null,
            "max_height": null,
            "max_width": null,
            "min_height": null,
            "min_width": null,
            "object_fit": null,
            "object_position": null,
            "order": null,
            "overflow": null,
            "overflow_x": null,
            "overflow_y": null,
            "padding": null,
            "right": null,
            "top": null,
            "visibility": null,
            "width": null
          }
        },
        "c90bd14c3fe7431fbb5fde3594d6739b": {
          "model_module": "@jupyter-widgets/controls",
          "model_name": "ProgressStyleModel",
          "model_module_version": "1.5.0",
          "state": {
            "_model_module": "@jupyter-widgets/controls",
            "_model_module_version": "1.5.0",
            "_model_name": "ProgressStyleModel",
            "_view_count": null,
            "_view_module": "@jupyter-widgets/base",
            "_view_module_version": "1.2.0",
            "_view_name": "StyleView",
            "bar_color": null,
            "description_width": ""
          }
        },
        "5b771f6774e245cd80e2342f5b48dadb": {
          "model_module": "@jupyter-widgets/base",
          "model_name": "LayoutModel",
          "model_module_version": "1.2.0",
          "state": {
            "_model_module": "@jupyter-widgets/base",
            "_model_module_version": "1.2.0",
            "_model_name": "LayoutModel",
            "_view_count": null,
            "_view_module": "@jupyter-widgets/base",
            "_view_module_version": "1.2.0",
            "_view_name": "LayoutView",
            "align_content": null,
            "align_items": null,
            "align_self": null,
            "border": null,
            "bottom": null,
            "display": null,
            "flex": null,
            "flex_flow": null,
            "grid_area": null,
            "grid_auto_columns": null,
            "grid_auto_flow": null,
            "grid_auto_rows": null,
            "grid_column": null,
            "grid_gap": null,
            "grid_row": null,
            "grid_template_areas": null,
            "grid_template_columns": null,
            "grid_template_rows": null,
            "height": null,
            "justify_content": null,
            "justify_items": null,
            "left": null,
            "margin": null,
            "max_height": null,
            "max_width": null,
            "min_height": null,
            "min_width": null,
            "object_fit": null,
            "object_position": null,
            "order": null,
            "overflow": null,
            "overflow_x": null,
            "overflow_y": null,
            "padding": null,
            "right": null,
            "top": null,
            "visibility": null,
            "width": null
          }
        },
        "c6566357e94a49bba7d3613e7f514b55": {
          "model_module": "@jupyter-widgets/controls",
          "model_name": "DescriptionStyleModel",
          "model_module_version": "1.5.0",
          "state": {
            "_model_module": "@jupyter-widgets/controls",
            "_model_module_version": "1.5.0",
            "_model_name": "DescriptionStyleModel",
            "_view_count": null,
            "_view_module": "@jupyter-widgets/base",
            "_view_module_version": "1.2.0",
            "_view_name": "StyleView",
            "description_width": ""
          }
        },
        "21670784a941415daaea91bab7d4c496": {
          "model_module": "@jupyter-widgets/controls",
          "model_name": "HBoxModel",
          "model_module_version": "1.5.0",
          "state": {
            "_dom_classes": [],
            "_model_module": "@jupyter-widgets/controls",
            "_model_module_version": "1.5.0",
            "_model_name": "HBoxModel",
            "_view_count": null,
            "_view_module": "@jupyter-widgets/controls",
            "_view_module_version": "1.5.0",
            "_view_name": "HBoxView",
            "box_style": "",
            "children": [
              "IPY_MODEL_956bcf450d6b46e882516f89fe890777",
              "IPY_MODEL_e555e1b9fcf14d4382eb9091b43391d5",
              "IPY_MODEL_1c19bedf539f4a29bbb39c47f659f443"
            ],
            "layout": "IPY_MODEL_48381c9aca5c443183d1e2b72046bfe4"
          }
        },
        "956bcf450d6b46e882516f89fe890777": {
          "model_module": "@jupyter-widgets/controls",
          "model_name": "HTMLModel",
          "model_module_version": "1.5.0",
          "state": {
            "_dom_classes": [],
            "_model_module": "@jupyter-widgets/controls",
            "_model_module_version": "1.5.0",
            "_model_name": "HTMLModel",
            "_view_count": null,
            "_view_module": "@jupyter-widgets/controls",
            "_view_module_version": "1.5.0",
            "_view_name": "HTMLView",
            "description": "",
            "description_tooltip": null,
            "layout": "IPY_MODEL_5f20e8e2034c4b7eaa23505826819480",
            "placeholder": "​",
            "style": "IPY_MODEL_a549e443334448d9917bb54746d36ce7",
            "value": "config.json: 100%"
          }
        },
        "e555e1b9fcf14d4382eb9091b43391d5": {
          "model_module": "@jupyter-widgets/controls",
          "model_name": "FloatProgressModel",
          "model_module_version": "1.5.0",
          "state": {
            "_dom_classes": [],
            "_model_module": "@jupyter-widgets/controls",
            "_model_module_version": "1.5.0",
            "_model_name": "FloatProgressModel",
            "_view_count": null,
            "_view_module": "@jupyter-widgets/controls",
            "_view_module_version": "1.5.0",
            "_view_name": "ProgressView",
            "bar_style": "success",
            "description": "",
            "description_tooltip": null,
            "layout": "IPY_MODEL_46a46a73d46d474f91fc9e58f11d9b95",
            "max": 570,
            "min": 0,
            "orientation": "horizontal",
            "style": "IPY_MODEL_a033c96b8034418fa860123c244df37c",
            "value": 570
          }
        },
        "1c19bedf539f4a29bbb39c47f659f443": {
          "model_module": "@jupyter-widgets/controls",
          "model_name": "HTMLModel",
          "model_module_version": "1.5.0",
          "state": {
            "_dom_classes": [],
            "_model_module": "@jupyter-widgets/controls",
            "_model_module_version": "1.5.0",
            "_model_name": "HTMLModel",
            "_view_count": null,
            "_view_module": "@jupyter-widgets/controls",
            "_view_module_version": "1.5.0",
            "_view_name": "HTMLView",
            "description": "",
            "description_tooltip": null,
            "layout": "IPY_MODEL_b14275cbb3fc40c9affa77ec261bd923",
            "placeholder": "​",
            "style": "IPY_MODEL_93edd8037d324a07976d8882576679c9",
            "value": " 570/570 [00:00&lt;00:00, 13.1kB/s]"
          }
        },
        "48381c9aca5c443183d1e2b72046bfe4": {
          "model_module": "@jupyter-widgets/base",
          "model_name": "LayoutModel",
          "model_module_version": "1.2.0",
          "state": {
            "_model_module": "@jupyter-widgets/base",
            "_model_module_version": "1.2.0",
            "_model_name": "LayoutModel",
            "_view_count": null,
            "_view_module": "@jupyter-widgets/base",
            "_view_module_version": "1.2.0",
            "_view_name": "LayoutView",
            "align_content": null,
            "align_items": null,
            "align_self": null,
            "border": null,
            "bottom": null,
            "display": null,
            "flex": null,
            "flex_flow": null,
            "grid_area": null,
            "grid_auto_columns": null,
            "grid_auto_flow": null,
            "grid_auto_rows": null,
            "grid_column": null,
            "grid_gap": null,
            "grid_row": null,
            "grid_template_areas": null,
            "grid_template_columns": null,
            "grid_template_rows": null,
            "height": null,
            "justify_content": null,
            "justify_items": null,
            "left": null,
            "margin": null,
            "max_height": null,
            "max_width": null,
            "min_height": null,
            "min_width": null,
            "object_fit": null,
            "object_position": null,
            "order": null,
            "overflow": null,
            "overflow_x": null,
            "overflow_y": null,
            "padding": null,
            "right": null,
            "top": null,
            "visibility": null,
            "width": null
          }
        },
        "5f20e8e2034c4b7eaa23505826819480": {
          "model_module": "@jupyter-widgets/base",
          "model_name": "LayoutModel",
          "model_module_version": "1.2.0",
          "state": {
            "_model_module": "@jupyter-widgets/base",
            "_model_module_version": "1.2.0",
            "_model_name": "LayoutModel",
            "_view_count": null,
            "_view_module": "@jupyter-widgets/base",
            "_view_module_version": "1.2.0",
            "_view_name": "LayoutView",
            "align_content": null,
            "align_items": null,
            "align_self": null,
            "border": null,
            "bottom": null,
            "display": null,
            "flex": null,
            "flex_flow": null,
            "grid_area": null,
            "grid_auto_columns": null,
            "grid_auto_flow": null,
            "grid_auto_rows": null,
            "grid_column": null,
            "grid_gap": null,
            "grid_row": null,
            "grid_template_areas": null,
            "grid_template_columns": null,
            "grid_template_rows": null,
            "height": null,
            "justify_content": null,
            "justify_items": null,
            "left": null,
            "margin": null,
            "max_height": null,
            "max_width": null,
            "min_height": null,
            "min_width": null,
            "object_fit": null,
            "object_position": null,
            "order": null,
            "overflow": null,
            "overflow_x": null,
            "overflow_y": null,
            "padding": null,
            "right": null,
            "top": null,
            "visibility": null,
            "width": null
          }
        },
        "a549e443334448d9917bb54746d36ce7": {
          "model_module": "@jupyter-widgets/controls",
          "model_name": "DescriptionStyleModel",
          "model_module_version": "1.5.0",
          "state": {
            "_model_module": "@jupyter-widgets/controls",
            "_model_module_version": "1.5.0",
            "_model_name": "DescriptionStyleModel",
            "_view_count": null,
            "_view_module": "@jupyter-widgets/base",
            "_view_module_version": "1.2.0",
            "_view_name": "StyleView",
            "description_width": ""
          }
        },
        "46a46a73d46d474f91fc9e58f11d9b95": {
          "model_module": "@jupyter-widgets/base",
          "model_name": "LayoutModel",
          "model_module_version": "1.2.0",
          "state": {
            "_model_module": "@jupyter-widgets/base",
            "_model_module_version": "1.2.0",
            "_model_name": "LayoutModel",
            "_view_count": null,
            "_view_module": "@jupyter-widgets/base",
            "_view_module_version": "1.2.0",
            "_view_name": "LayoutView",
            "align_content": null,
            "align_items": null,
            "align_self": null,
            "border": null,
            "bottom": null,
            "display": null,
            "flex": null,
            "flex_flow": null,
            "grid_area": null,
            "grid_auto_columns": null,
            "grid_auto_flow": null,
            "grid_auto_rows": null,
            "grid_column": null,
            "grid_gap": null,
            "grid_row": null,
            "grid_template_areas": null,
            "grid_template_columns": null,
            "grid_template_rows": null,
            "height": null,
            "justify_content": null,
            "justify_items": null,
            "left": null,
            "margin": null,
            "max_height": null,
            "max_width": null,
            "min_height": null,
            "min_width": null,
            "object_fit": null,
            "object_position": null,
            "order": null,
            "overflow": null,
            "overflow_x": null,
            "overflow_y": null,
            "padding": null,
            "right": null,
            "top": null,
            "visibility": null,
            "width": null
          }
        },
        "a033c96b8034418fa860123c244df37c": {
          "model_module": "@jupyter-widgets/controls",
          "model_name": "ProgressStyleModel",
          "model_module_version": "1.5.0",
          "state": {
            "_model_module": "@jupyter-widgets/controls",
            "_model_module_version": "1.5.0",
            "_model_name": "ProgressStyleModel",
            "_view_count": null,
            "_view_module": "@jupyter-widgets/base",
            "_view_module_version": "1.2.0",
            "_view_name": "StyleView",
            "bar_color": null,
            "description_width": ""
          }
        },
        "b14275cbb3fc40c9affa77ec261bd923": {
          "model_module": "@jupyter-widgets/base",
          "model_name": "LayoutModel",
          "model_module_version": "1.2.0",
          "state": {
            "_model_module": "@jupyter-widgets/base",
            "_model_module_version": "1.2.0",
            "_model_name": "LayoutModel",
            "_view_count": null,
            "_view_module": "@jupyter-widgets/base",
            "_view_module_version": "1.2.0",
            "_view_name": "LayoutView",
            "align_content": null,
            "align_items": null,
            "align_self": null,
            "border": null,
            "bottom": null,
            "display": null,
            "flex": null,
            "flex_flow": null,
            "grid_area": null,
            "grid_auto_columns": null,
            "grid_auto_flow": null,
            "grid_auto_rows": null,
            "grid_column": null,
            "grid_gap": null,
            "grid_row": null,
            "grid_template_areas": null,
            "grid_template_columns": null,
            "grid_template_rows": null,
            "height": null,
            "justify_content": null,
            "justify_items": null,
            "left": null,
            "margin": null,
            "max_height": null,
            "max_width": null,
            "min_height": null,
            "min_width": null,
            "object_fit": null,
            "object_position": null,
            "order": null,
            "overflow": null,
            "overflow_x": null,
            "overflow_y": null,
            "padding": null,
            "right": null,
            "top": null,
            "visibility": null,
            "width": null
          }
        },
        "93edd8037d324a07976d8882576679c9": {
          "model_module": "@jupyter-widgets/controls",
          "model_name": "DescriptionStyleModel",
          "model_module_version": "1.5.0",
          "state": {
            "_model_module": "@jupyter-widgets/controls",
            "_model_module_version": "1.5.0",
            "_model_name": "DescriptionStyleModel",
            "_view_count": null,
            "_view_module": "@jupyter-widgets/base",
            "_view_module_version": "1.2.0",
            "_view_name": "StyleView",
            "description_width": ""
          }
        },
        "4a1452f45ef743e78da6413347b9921a": {
          "model_module": "@jupyter-widgets/controls",
          "model_name": "HBoxModel",
          "model_module_version": "1.5.0",
          "state": {
            "_dom_classes": [],
            "_model_module": "@jupyter-widgets/controls",
            "_model_module_version": "1.5.0",
            "_model_name": "HBoxModel",
            "_view_count": null,
            "_view_module": "@jupyter-widgets/controls",
            "_view_module_version": "1.5.0",
            "_view_name": "HBoxView",
            "box_style": "",
            "children": [
              "IPY_MODEL_dd4d77a5d4164e50909a890b976f1adb",
              "IPY_MODEL_a017073bd4fa434b92e5691fd9ee348f",
              "IPY_MODEL_c56e69d77e0547a2aa45685f0485aa8d"
            ],
            "layout": "IPY_MODEL_00af50f3551344b08afb97c2aaa95c63"
          }
        },
        "dd4d77a5d4164e50909a890b976f1adb": {
          "model_module": "@jupyter-widgets/controls",
          "model_name": "HTMLModel",
          "model_module_version": "1.5.0",
          "state": {
            "_dom_classes": [],
            "_model_module": "@jupyter-widgets/controls",
            "_model_module_version": "1.5.0",
            "_model_name": "HTMLModel",
            "_view_count": null,
            "_view_module": "@jupyter-widgets/controls",
            "_view_module_version": "1.5.0",
            "_view_name": "HTMLView",
            "description": "",
            "description_tooltip": null,
            "layout": "IPY_MODEL_d45a2244848347f481005fe4d1c0f6e5",
            "placeholder": "​",
            "style": "IPY_MODEL_6b1305ab150d40fb9be62e10c6020c4b",
            "value": "model.safetensors: 100%"
          }
        },
        "a017073bd4fa434b92e5691fd9ee348f": {
          "model_module": "@jupyter-widgets/controls",
          "model_name": "FloatProgressModel",
          "model_module_version": "1.5.0",
          "state": {
            "_dom_classes": [],
            "_model_module": "@jupyter-widgets/controls",
            "_model_module_version": "1.5.0",
            "_model_name": "FloatProgressModel",
            "_view_count": null,
            "_view_module": "@jupyter-widgets/controls",
            "_view_module_version": "1.5.0",
            "_view_name": "ProgressView",
            "bar_style": "success",
            "description": "",
            "description_tooltip": null,
            "layout": "IPY_MODEL_4c6ae44c2ff34df898f1b6719eaf533f",
            "max": 440449768,
            "min": 0,
            "orientation": "horizontal",
            "style": "IPY_MODEL_7d4a18af0ef84734b7ab20f5a3778d20",
            "value": 440449768
          }
        },
        "c56e69d77e0547a2aa45685f0485aa8d": {
          "model_module": "@jupyter-widgets/controls",
          "model_name": "HTMLModel",
          "model_module_version": "1.5.0",
          "state": {
            "_dom_classes": [],
            "_model_module": "@jupyter-widgets/controls",
            "_model_module_version": "1.5.0",
            "_model_name": "HTMLModel",
            "_view_count": null,
            "_view_module": "@jupyter-widgets/controls",
            "_view_module_version": "1.5.0",
            "_view_name": "HTMLView",
            "description": "",
            "description_tooltip": null,
            "layout": "IPY_MODEL_7ca713f61b6349e5be67705ba0231cc8",
            "placeholder": "​",
            "style": "IPY_MODEL_ab24606815854eee987c7098d47c2202",
            "value": " 440M/440M [00:03&lt;00:00, 150MB/s]"
          }
        },
        "00af50f3551344b08afb97c2aaa95c63": {
          "model_module": "@jupyter-widgets/base",
          "model_name": "LayoutModel",
          "model_module_version": "1.2.0",
          "state": {
            "_model_module": "@jupyter-widgets/base",
            "_model_module_version": "1.2.0",
            "_model_name": "LayoutModel",
            "_view_count": null,
            "_view_module": "@jupyter-widgets/base",
            "_view_module_version": "1.2.0",
            "_view_name": "LayoutView",
            "align_content": null,
            "align_items": null,
            "align_self": null,
            "border": null,
            "bottom": null,
            "display": null,
            "flex": null,
            "flex_flow": null,
            "grid_area": null,
            "grid_auto_columns": null,
            "grid_auto_flow": null,
            "grid_auto_rows": null,
            "grid_column": null,
            "grid_gap": null,
            "grid_row": null,
            "grid_template_areas": null,
            "grid_template_columns": null,
            "grid_template_rows": null,
            "height": null,
            "justify_content": null,
            "justify_items": null,
            "left": null,
            "margin": null,
            "max_height": null,
            "max_width": null,
            "min_height": null,
            "min_width": null,
            "object_fit": null,
            "object_position": null,
            "order": null,
            "overflow": null,
            "overflow_x": null,
            "overflow_y": null,
            "padding": null,
            "right": null,
            "top": null,
            "visibility": null,
            "width": null
          }
        },
        "d45a2244848347f481005fe4d1c0f6e5": {
          "model_module": "@jupyter-widgets/base",
          "model_name": "LayoutModel",
          "model_module_version": "1.2.0",
          "state": {
            "_model_module": "@jupyter-widgets/base",
            "_model_module_version": "1.2.0",
            "_model_name": "LayoutModel",
            "_view_count": null,
            "_view_module": "@jupyter-widgets/base",
            "_view_module_version": "1.2.0",
            "_view_name": "LayoutView",
            "align_content": null,
            "align_items": null,
            "align_self": null,
            "border": null,
            "bottom": null,
            "display": null,
            "flex": null,
            "flex_flow": null,
            "grid_area": null,
            "grid_auto_columns": null,
            "grid_auto_flow": null,
            "grid_auto_rows": null,
            "grid_column": null,
            "grid_gap": null,
            "grid_row": null,
            "grid_template_areas": null,
            "grid_template_columns": null,
            "grid_template_rows": null,
            "height": null,
            "justify_content": null,
            "justify_items": null,
            "left": null,
            "margin": null,
            "max_height": null,
            "max_width": null,
            "min_height": null,
            "min_width": null,
            "object_fit": null,
            "object_position": null,
            "order": null,
            "overflow": null,
            "overflow_x": null,
            "overflow_y": null,
            "padding": null,
            "right": null,
            "top": null,
            "visibility": null,
            "width": null
          }
        },
        "6b1305ab150d40fb9be62e10c6020c4b": {
          "model_module": "@jupyter-widgets/controls",
          "model_name": "DescriptionStyleModel",
          "model_module_version": "1.5.0",
          "state": {
            "_model_module": "@jupyter-widgets/controls",
            "_model_module_version": "1.5.0",
            "_model_name": "DescriptionStyleModel",
            "_view_count": null,
            "_view_module": "@jupyter-widgets/base",
            "_view_module_version": "1.2.0",
            "_view_name": "StyleView",
            "description_width": ""
          }
        },
        "4c6ae44c2ff34df898f1b6719eaf533f": {
          "model_module": "@jupyter-widgets/base",
          "model_name": "LayoutModel",
          "model_module_version": "1.2.0",
          "state": {
            "_model_module": "@jupyter-widgets/base",
            "_model_module_version": "1.2.0",
            "_model_name": "LayoutModel",
            "_view_count": null,
            "_view_module": "@jupyter-widgets/base",
            "_view_module_version": "1.2.0",
            "_view_name": "LayoutView",
            "align_content": null,
            "align_items": null,
            "align_self": null,
            "border": null,
            "bottom": null,
            "display": null,
            "flex": null,
            "flex_flow": null,
            "grid_area": null,
            "grid_auto_columns": null,
            "grid_auto_flow": null,
            "grid_auto_rows": null,
            "grid_column": null,
            "grid_gap": null,
            "grid_row": null,
            "grid_template_areas": null,
            "grid_template_columns": null,
            "grid_template_rows": null,
            "height": null,
            "justify_content": null,
            "justify_items": null,
            "left": null,
            "margin": null,
            "max_height": null,
            "max_width": null,
            "min_height": null,
            "min_width": null,
            "object_fit": null,
            "object_position": null,
            "order": null,
            "overflow": null,
            "overflow_x": null,
            "overflow_y": null,
            "padding": null,
            "right": null,
            "top": null,
            "visibility": null,
            "width": null
          }
        },
        "7d4a18af0ef84734b7ab20f5a3778d20": {
          "model_module": "@jupyter-widgets/controls",
          "model_name": "ProgressStyleModel",
          "model_module_version": "1.5.0",
          "state": {
            "_model_module": "@jupyter-widgets/controls",
            "_model_module_version": "1.5.0",
            "_model_name": "ProgressStyleModel",
            "_view_count": null,
            "_view_module": "@jupyter-widgets/base",
            "_view_module_version": "1.2.0",
            "_view_name": "StyleView",
            "bar_color": null,
            "description_width": ""
          }
        },
        "7ca713f61b6349e5be67705ba0231cc8": {
          "model_module": "@jupyter-widgets/base",
          "model_name": "LayoutModel",
          "model_module_version": "1.2.0",
          "state": {
            "_model_module": "@jupyter-widgets/base",
            "_model_module_version": "1.2.0",
            "_model_name": "LayoutModel",
            "_view_count": null,
            "_view_module": "@jupyter-widgets/base",
            "_view_module_version": "1.2.0",
            "_view_name": "LayoutView",
            "align_content": null,
            "align_items": null,
            "align_self": null,
            "border": null,
            "bottom": null,
            "display": null,
            "flex": null,
            "flex_flow": null,
            "grid_area": null,
            "grid_auto_columns": null,
            "grid_auto_flow": null,
            "grid_auto_rows": null,
            "grid_column": null,
            "grid_gap": null,
            "grid_row": null,
            "grid_template_areas": null,
            "grid_template_columns": null,
            "grid_template_rows": null,
            "height": null,
            "justify_content": null,
            "justify_items": null,
            "left": null,
            "margin": null,
            "max_height": null,
            "max_width": null,
            "min_height": null,
            "min_width": null,
            "object_fit": null,
            "object_position": null,
            "order": null,
            "overflow": null,
            "overflow_x": null,
            "overflow_y": null,
            "padding": null,
            "right": null,
            "top": null,
            "visibility": null,
            "width": null
          }
        },
        "ab24606815854eee987c7098d47c2202": {
          "model_module": "@jupyter-widgets/controls",
          "model_name": "DescriptionStyleModel",
          "model_module_version": "1.5.0",
          "state": {
            "_model_module": "@jupyter-widgets/controls",
            "_model_module_version": "1.5.0",
            "_model_name": "DescriptionStyleModel",
            "_view_count": null,
            "_view_module": "@jupyter-widgets/base",
            "_view_module_version": "1.2.0",
            "_view_name": "StyleView",
            "description_width": ""
          }
        }
      }
    }
  },
  "cells": [
    {
      "cell_type": "code",
      "execution_count": null,
      "metadata": {
        "id": "hYBgygDfG7hJ"
      },
      "outputs": [],
      "source": []
    },
    {
      "cell_type": "code",
      "execution_count": null,
      "metadata": {
        "colab": {
          "base_uri": "https://localhost:8080/"
        },
        "id": "SgMZF2bN3ucv",
        "outputId": "f414900c-1b50-42b0-a072-159616ac2645"
      },
      "outputs": [
        {
          "output_type": "stream",
          "name": "stdout",
          "text": [
            "Requirement already satisfied: transformers in /usr/local/lib/python3.10/dist-packages (4.35.2)\n",
            "Requirement already satisfied: filelock in /usr/local/lib/python3.10/dist-packages (from transformers) (3.13.1)\n",
            "Requirement already satisfied: huggingface-hub<1.0,>=0.16.4 in /usr/local/lib/python3.10/dist-packages (from transformers) (0.20.2)\n",
            "Requirement already satisfied: numpy>=1.17 in /usr/local/lib/python3.10/dist-packages (from transformers) (1.23.5)\n",
            "Requirement already satisfied: packaging>=20.0 in /usr/local/lib/python3.10/dist-packages (from transformers) (23.2)\n",
            "Requirement already satisfied: pyyaml>=5.1 in /usr/local/lib/python3.10/dist-packages (from transformers) (6.0.1)\n",
            "Requirement already satisfied: regex!=2019.12.17 in /usr/local/lib/python3.10/dist-packages (from transformers) (2023.6.3)\n",
            "Requirement already satisfied: requests in /usr/local/lib/python3.10/dist-packages (from transformers) (2.31.0)\n",
            "Requirement already satisfied: tokenizers<0.19,>=0.14 in /usr/local/lib/python3.10/dist-packages (from transformers) (0.15.0)\n",
            "Requirement already satisfied: safetensors>=0.3.1 in /usr/local/lib/python3.10/dist-packages (from transformers) (0.4.1)\n",
            "Requirement already satisfied: tqdm>=4.27 in /usr/local/lib/python3.10/dist-packages (from transformers) (4.66.1)\n",
            "Requirement already satisfied: fsspec>=2023.5.0 in /usr/local/lib/python3.10/dist-packages (from huggingface-hub<1.0,>=0.16.4->transformers) (2023.6.0)\n",
            "Requirement already satisfied: typing-extensions>=3.7.4.3 in /usr/local/lib/python3.10/dist-packages (from huggingface-hub<1.0,>=0.16.4->transformers) (4.5.0)\n",
            "Requirement already satisfied: charset-normalizer<4,>=2 in /usr/local/lib/python3.10/dist-packages (from requests->transformers) (3.3.2)\n",
            "Requirement already satisfied: idna<4,>=2.5 in /usr/local/lib/python3.10/dist-packages (from requests->transformers) (3.6)\n",
            "Requirement already satisfied: urllib3<3,>=1.21.1 in /usr/local/lib/python3.10/dist-packages (from requests->transformers) (2.0.7)\n",
            "Requirement already satisfied: certifi>=2017.4.17 in /usr/local/lib/python3.10/dist-packages (from requests->transformers) (2023.11.17)\n",
            "Requirement already satisfied: transformers[torch] in /usr/local/lib/python3.10/dist-packages (4.35.2)\n",
            "Requirement already satisfied: filelock in /usr/local/lib/python3.10/dist-packages (from transformers[torch]) (3.13.1)\n",
            "Requirement already satisfied: huggingface-hub<1.0,>=0.16.4 in /usr/local/lib/python3.10/dist-packages (from transformers[torch]) (0.20.2)\n",
            "Requirement already satisfied: numpy>=1.17 in /usr/local/lib/python3.10/dist-packages (from transformers[torch]) (1.23.5)\n",
            "Requirement already satisfied: packaging>=20.0 in /usr/local/lib/python3.10/dist-packages (from transformers[torch]) (23.2)\n",
            "Requirement already satisfied: pyyaml>=5.1 in /usr/local/lib/python3.10/dist-packages (from transformers[torch]) (6.0.1)\n",
            "Requirement already satisfied: regex!=2019.12.17 in /usr/local/lib/python3.10/dist-packages (from transformers[torch]) (2023.6.3)\n",
            "Requirement already satisfied: requests in /usr/local/lib/python3.10/dist-packages (from transformers[torch]) (2.31.0)\n",
            "Requirement already satisfied: tokenizers<0.19,>=0.14 in /usr/local/lib/python3.10/dist-packages (from transformers[torch]) (0.15.0)\n",
            "Requirement already satisfied: safetensors>=0.3.1 in /usr/local/lib/python3.10/dist-packages (from transformers[torch]) (0.4.1)\n",
            "Requirement already satisfied: tqdm>=4.27 in /usr/local/lib/python3.10/dist-packages (from transformers[torch]) (4.66.1)\n",
            "Requirement already satisfied: torch!=1.12.0,>=1.10 in /usr/local/lib/python3.10/dist-packages (from transformers[torch]) (2.1.0+cu121)\n",
            "Collecting accelerate>=0.20.3 (from transformers[torch])\n",
            "  Downloading accelerate-0.26.1-py3-none-any.whl (270 kB)\n",
            "\u001b[2K     \u001b[90m━━━━━━━━━━━━━━━━━━━━━━━━━━━━━━━━━━━━━━━━\u001b[0m \u001b[32m270.9/270.9 kB\u001b[0m \u001b[31m6.7 MB/s\u001b[0m eta \u001b[36m0:00:00\u001b[0m\n",
            "\u001b[?25hRequirement already satisfied: psutil in /usr/local/lib/python3.10/dist-packages (from accelerate>=0.20.3->transformers[torch]) (5.9.5)\n",
            "Requirement already satisfied: fsspec>=2023.5.0 in /usr/local/lib/python3.10/dist-packages (from huggingface-hub<1.0,>=0.16.4->transformers[torch]) (2023.6.0)\n",
            "Requirement already satisfied: typing-extensions>=3.7.4.3 in /usr/local/lib/python3.10/dist-packages (from huggingface-hub<1.0,>=0.16.4->transformers[torch]) (4.5.0)\n",
            "Requirement already satisfied: sympy in /usr/local/lib/python3.10/dist-packages (from torch!=1.12.0,>=1.10->transformers[torch]) (1.12)\n",
            "Requirement already satisfied: networkx in /usr/local/lib/python3.10/dist-packages (from torch!=1.12.0,>=1.10->transformers[torch]) (3.2.1)\n",
            "Requirement already satisfied: jinja2 in /usr/local/lib/python3.10/dist-packages (from torch!=1.12.0,>=1.10->transformers[torch]) (3.1.3)\n",
            "Requirement already satisfied: triton==2.1.0 in /usr/local/lib/python3.10/dist-packages (from torch!=1.12.0,>=1.10->transformers[torch]) (2.1.0)\n",
            "Requirement already satisfied: charset-normalizer<4,>=2 in /usr/local/lib/python3.10/dist-packages (from requests->transformers[torch]) (3.3.2)\n",
            "Requirement already satisfied: idna<4,>=2.5 in /usr/local/lib/python3.10/dist-packages (from requests->transformers[torch]) (3.6)\n",
            "Requirement already satisfied: urllib3<3,>=1.21.1 in /usr/local/lib/python3.10/dist-packages (from requests->transformers[torch]) (2.0.7)\n",
            "Requirement already satisfied: certifi>=2017.4.17 in /usr/local/lib/python3.10/dist-packages (from requests->transformers[torch]) (2023.11.17)\n",
            "Requirement already satisfied: MarkupSafe>=2.0 in /usr/local/lib/python3.10/dist-packages (from jinja2->torch!=1.12.0,>=1.10->transformers[torch]) (2.1.3)\n",
            "Requirement already satisfied: mpmath>=0.19 in /usr/local/lib/python3.10/dist-packages (from sympy->torch!=1.12.0,>=1.10->transformers[torch]) (1.3.0)\n",
            "Installing collected packages: accelerate\n",
            "Successfully installed accelerate-0.26.1\n",
            "Requirement already satisfied: accelerate in /usr/local/lib/python3.10/dist-packages (0.26.1)\n",
            "Requirement already satisfied: numpy>=1.17 in /usr/local/lib/python3.10/dist-packages (from accelerate) (1.23.5)\n",
            "Requirement already satisfied: packaging>=20.0 in /usr/local/lib/python3.10/dist-packages (from accelerate) (23.2)\n",
            "Requirement already satisfied: psutil in /usr/local/lib/python3.10/dist-packages (from accelerate) (5.9.5)\n",
            "Requirement already satisfied: pyyaml in /usr/local/lib/python3.10/dist-packages (from accelerate) (6.0.1)\n",
            "Requirement already satisfied: torch>=1.10.0 in /usr/local/lib/python3.10/dist-packages (from accelerate) (2.1.0+cu121)\n",
            "Requirement already satisfied: huggingface-hub in /usr/local/lib/python3.10/dist-packages (from accelerate) (0.20.2)\n",
            "Requirement already satisfied: safetensors>=0.3.1 in /usr/local/lib/python3.10/dist-packages (from accelerate) (0.4.1)\n",
            "Requirement already satisfied: filelock in /usr/local/lib/python3.10/dist-packages (from torch>=1.10.0->accelerate) (3.13.1)\n",
            "Requirement already satisfied: typing-extensions in /usr/local/lib/python3.10/dist-packages (from torch>=1.10.0->accelerate) (4.5.0)\n",
            "Requirement already satisfied: sympy in /usr/local/lib/python3.10/dist-packages (from torch>=1.10.0->accelerate) (1.12)\n",
            "Requirement already satisfied: networkx in /usr/local/lib/python3.10/dist-packages (from torch>=1.10.0->accelerate) (3.2.1)\n",
            "Requirement already satisfied: jinja2 in /usr/local/lib/python3.10/dist-packages (from torch>=1.10.0->accelerate) (3.1.3)\n",
            "Requirement already satisfied: fsspec in /usr/local/lib/python3.10/dist-packages (from torch>=1.10.0->accelerate) (2023.6.0)\n",
            "Requirement already satisfied: triton==2.1.0 in /usr/local/lib/python3.10/dist-packages (from torch>=1.10.0->accelerate) (2.1.0)\n",
            "Requirement already satisfied: requests in /usr/local/lib/python3.10/dist-packages (from huggingface-hub->accelerate) (2.31.0)\n",
            "Requirement already satisfied: tqdm>=4.42.1 in /usr/local/lib/python3.10/dist-packages (from huggingface-hub->accelerate) (4.66.1)\n",
            "Requirement already satisfied: MarkupSafe>=2.0 in /usr/local/lib/python3.10/dist-packages (from jinja2->torch>=1.10.0->accelerate) (2.1.3)\n",
            "Requirement already satisfied: charset-normalizer<4,>=2 in /usr/local/lib/python3.10/dist-packages (from requests->huggingface-hub->accelerate) (3.3.2)\n",
            "Requirement already satisfied: idna<4,>=2.5 in /usr/local/lib/python3.10/dist-packages (from requests->huggingface-hub->accelerate) (3.6)\n",
            "Requirement already satisfied: urllib3<3,>=1.21.1 in /usr/local/lib/python3.10/dist-packages (from requests->huggingface-hub->accelerate) (2.0.7)\n",
            "Requirement already satisfied: certifi>=2017.4.17 in /usr/local/lib/python3.10/dist-packages (from requests->huggingface-hub->accelerate) (2023.11.17)\n",
            "Requirement already satisfied: mpmath>=0.19 in /usr/local/lib/python3.10/dist-packages (from sympy->torch>=1.10.0->accelerate) (1.3.0)\n"
          ]
        }
      ],
      "source": [
        "!pip install transformers\n",
        "!pip install transformers[torch]\n",
        "!pip install accelerate -U"
      ]
    },
    {
      "cell_type": "code",
      "execution_count": null,
      "metadata": {
        "id": "YkYC2Il94xRD"
      },
      "outputs": [],
      "source": [
        "import torch\n",
        "import pandas as pd\n",
        "import numpy as np\n",
        "import random\n",
        "from transformers import BertForSequenceClassification, BertTokenizer, TrainingArguments, Trainer, DataCollatorWithPadding, EarlyStoppingCallback, get_linear_schedule_with_warmup\n",
        "from google.colab import drive\n",
        "from torch.optim import SGD\n",
        "from sklearn.model_selection import train_test_split"
      ]
    },
    {
      "cell_type": "code",
      "source": [
        "# Set a random seed for PyTorch, random, and NumPy\n",
        "seed = 30  # You can choose any seed value\n",
        "torch.manual_seed(seed)\n",
        "random.seed(seed)\n",
        "np.random.seed(seed)"
      ],
      "metadata": {
        "id": "a6BRjW8nqFGP"
      },
      "execution_count": null,
      "outputs": []
    },
    {
      "cell_type": "code",
      "execution_count": null,
      "metadata": {
        "id": "IIplMHyo5hjR"
      },
      "outputs": [],
      "source": [
        "device = torch.device(\"cuda\" if torch.cuda.is_available() else \"cpu\")"
      ]
    },
    {
      "cell_type": "code",
      "execution_count": null,
      "metadata": {
        "colab": {
          "base_uri": "https://localhost:8080/",
          "height": 223
        },
        "id": "PzhbyrPY52aJ",
        "outputId": "52d11c82-aaae-4d9a-dcce-fb684eed1abf"
      },
      "outputs": [
        {
          "output_type": "stream",
          "name": "stdout",
          "text": [
            "Mounted at /content/drive\n"
          ]
        },
        {
          "output_type": "execute_result",
          "data": {
            "text/plain": [
              "                                             Address  Target\n",
              "0  10, Gaurav Apartments, Nahur Road, Behind Asho...       1\n",
              "1  Imperial Towers, A2, 1701, Nirmal nagari, Khad...       1\n",
              "2  im not yours when address is there, testtttt  ...       0\n",
              "3  im not yours when address is there, testtttt  ...       0\n",
              "4  im not yours when address is there, dsfsdfsdfs...       0"
            ],
            "text/html": [
              "\n",
              "  <div id=\"df-031b2c8b-6c9d-4a2c-a3b2-2abc9b62f4d9\" class=\"colab-df-container\">\n",
              "    <div>\n",
              "<style scoped>\n",
              "    .dataframe tbody tr th:only-of-type {\n",
              "        vertical-align: middle;\n",
              "    }\n",
              "\n",
              "    .dataframe tbody tr th {\n",
              "        vertical-align: top;\n",
              "    }\n",
              "\n",
              "    .dataframe thead th {\n",
              "        text-align: right;\n",
              "    }\n",
              "</style>\n",
              "<table border=\"1\" class=\"dataframe\">\n",
              "  <thead>\n",
              "    <tr style=\"text-align: right;\">\n",
              "      <th></th>\n",
              "      <th>Address</th>\n",
              "      <th>Target</th>\n",
              "    </tr>\n",
              "  </thead>\n",
              "  <tbody>\n",
              "    <tr>\n",
              "      <th>0</th>\n",
              "      <td>10, Gaurav Apartments, Nahur Road, Behind Asho...</td>\n",
              "      <td>1</td>\n",
              "    </tr>\n",
              "    <tr>\n",
              "      <th>1</th>\n",
              "      <td>Imperial Towers, A2, 1701, Nirmal nagari, Khad...</td>\n",
              "      <td>1</td>\n",
              "    </tr>\n",
              "    <tr>\n",
              "      <th>2</th>\n",
              "      <td>im not yours when address is there, testtttt  ...</td>\n",
              "      <td>0</td>\n",
              "    </tr>\n",
              "    <tr>\n",
              "      <th>3</th>\n",
              "      <td>im not yours when address is there, testtttt  ...</td>\n",
              "      <td>0</td>\n",
              "    </tr>\n",
              "    <tr>\n",
              "      <th>4</th>\n",
              "      <td>im not yours when address is there, dsfsdfsdfs...</td>\n",
              "      <td>0</td>\n",
              "    </tr>\n",
              "  </tbody>\n",
              "</table>\n",
              "</div>\n",
              "    <div class=\"colab-df-buttons\">\n",
              "\n",
              "  <div class=\"colab-df-container\">\n",
              "    <button class=\"colab-df-convert\" onclick=\"convertToInteractive('df-031b2c8b-6c9d-4a2c-a3b2-2abc9b62f4d9')\"\n",
              "            title=\"Convert this dataframe to an interactive table.\"\n",
              "            style=\"display:none;\">\n",
              "\n",
              "  <svg xmlns=\"http://www.w3.org/2000/svg\" height=\"24px\" viewBox=\"0 -960 960 960\">\n",
              "    <path d=\"M120-120v-720h720v720H120Zm60-500h600v-160H180v160Zm220 220h160v-160H400v160Zm0 220h160v-160H400v160ZM180-400h160v-160H180v160Zm440 0h160v-160H620v160ZM180-180h160v-160H180v160Zm440 0h160v-160H620v160Z\"/>\n",
              "  </svg>\n",
              "    </button>\n",
              "\n",
              "  <style>\n",
              "    .colab-df-container {\n",
              "      display:flex;\n",
              "      gap: 12px;\n",
              "    }\n",
              "\n",
              "    .colab-df-convert {\n",
              "      background-color: #E8F0FE;\n",
              "      border: none;\n",
              "      border-radius: 50%;\n",
              "      cursor: pointer;\n",
              "      display: none;\n",
              "      fill: #1967D2;\n",
              "      height: 32px;\n",
              "      padding: 0 0 0 0;\n",
              "      width: 32px;\n",
              "    }\n",
              "\n",
              "    .colab-df-convert:hover {\n",
              "      background-color: #E2EBFA;\n",
              "      box-shadow: 0px 1px 2px rgba(60, 64, 67, 0.3), 0px 1px 3px 1px rgba(60, 64, 67, 0.15);\n",
              "      fill: #174EA6;\n",
              "    }\n",
              "\n",
              "    .colab-df-buttons div {\n",
              "      margin-bottom: 4px;\n",
              "    }\n",
              "\n",
              "    [theme=dark] .colab-df-convert {\n",
              "      background-color: #3B4455;\n",
              "      fill: #D2E3FC;\n",
              "    }\n",
              "\n",
              "    [theme=dark] .colab-df-convert:hover {\n",
              "      background-color: #434B5C;\n",
              "      box-shadow: 0px 1px 3px 1px rgba(0, 0, 0, 0.15);\n",
              "      filter: drop-shadow(0px 1px 2px rgba(0, 0, 0, 0.3));\n",
              "      fill: #FFFFFF;\n",
              "    }\n",
              "  </style>\n",
              "\n",
              "    <script>\n",
              "      const buttonEl =\n",
              "        document.querySelector('#df-031b2c8b-6c9d-4a2c-a3b2-2abc9b62f4d9 button.colab-df-convert');\n",
              "      buttonEl.style.display =\n",
              "        google.colab.kernel.accessAllowed ? 'block' : 'none';\n",
              "\n",
              "      async function convertToInteractive(key) {\n",
              "        const element = document.querySelector('#df-031b2c8b-6c9d-4a2c-a3b2-2abc9b62f4d9');\n",
              "        const dataTable =\n",
              "          await google.colab.kernel.invokeFunction('convertToInteractive',\n",
              "                                                    [key], {});\n",
              "        if (!dataTable) return;\n",
              "\n",
              "        const docLinkHtml = 'Like what you see? Visit the ' +\n",
              "          '<a target=\"_blank\" href=https://colab.research.google.com/notebooks/data_table.ipynb>data table notebook</a>'\n",
              "          + ' to learn more about interactive tables.';\n",
              "        element.innerHTML = '';\n",
              "        dataTable['output_type'] = 'display_data';\n",
              "        await google.colab.output.renderOutput(dataTable, element);\n",
              "        const docLink = document.createElement('div');\n",
              "        docLink.innerHTML = docLinkHtml;\n",
              "        element.appendChild(docLink);\n",
              "      }\n",
              "    </script>\n",
              "  </div>\n",
              "\n",
              "\n",
              "<div id=\"df-9db96db9-9933-41b8-9ad9-6f83af8a7b83\">\n",
              "  <button class=\"colab-df-quickchart\" onclick=\"quickchart('df-9db96db9-9933-41b8-9ad9-6f83af8a7b83')\"\n",
              "            title=\"Suggest charts\"\n",
              "            style=\"display:none;\">\n",
              "\n",
              "<svg xmlns=\"http://www.w3.org/2000/svg\" height=\"24px\"viewBox=\"0 0 24 24\"\n",
              "     width=\"24px\">\n",
              "    <g>\n",
              "        <path d=\"M19 3H5c-1.1 0-2 .9-2 2v14c0 1.1.9 2 2 2h14c1.1 0 2-.9 2-2V5c0-1.1-.9-2-2-2zM9 17H7v-7h2v7zm4 0h-2V7h2v10zm4 0h-2v-4h2v4z\"/>\n",
              "    </g>\n",
              "</svg>\n",
              "  </button>\n",
              "\n",
              "<style>\n",
              "  .colab-df-quickchart {\n",
              "      --bg-color: #E8F0FE;\n",
              "      --fill-color: #1967D2;\n",
              "      --hover-bg-color: #E2EBFA;\n",
              "      --hover-fill-color: #174EA6;\n",
              "      --disabled-fill-color: #AAA;\n",
              "      --disabled-bg-color: #DDD;\n",
              "  }\n",
              "\n",
              "  [theme=dark] .colab-df-quickchart {\n",
              "      --bg-color: #3B4455;\n",
              "      --fill-color: #D2E3FC;\n",
              "      --hover-bg-color: #434B5C;\n",
              "      --hover-fill-color: #FFFFFF;\n",
              "      --disabled-bg-color: #3B4455;\n",
              "      --disabled-fill-color: #666;\n",
              "  }\n",
              "\n",
              "  .colab-df-quickchart {\n",
              "    background-color: var(--bg-color);\n",
              "    border: none;\n",
              "    border-radius: 50%;\n",
              "    cursor: pointer;\n",
              "    display: none;\n",
              "    fill: var(--fill-color);\n",
              "    height: 32px;\n",
              "    padding: 0;\n",
              "    width: 32px;\n",
              "  }\n",
              "\n",
              "  .colab-df-quickchart:hover {\n",
              "    background-color: var(--hover-bg-color);\n",
              "    box-shadow: 0 1px 2px rgba(60, 64, 67, 0.3), 0 1px 3px 1px rgba(60, 64, 67, 0.15);\n",
              "    fill: var(--button-hover-fill-color);\n",
              "  }\n",
              "\n",
              "  .colab-df-quickchart-complete:disabled,\n",
              "  .colab-df-quickchart-complete:disabled:hover {\n",
              "    background-color: var(--disabled-bg-color);\n",
              "    fill: var(--disabled-fill-color);\n",
              "    box-shadow: none;\n",
              "  }\n",
              "\n",
              "  .colab-df-spinner {\n",
              "    border: 2px solid var(--fill-color);\n",
              "    border-color: transparent;\n",
              "    border-bottom-color: var(--fill-color);\n",
              "    animation:\n",
              "      spin 1s steps(1) infinite;\n",
              "  }\n",
              "\n",
              "  @keyframes spin {\n",
              "    0% {\n",
              "      border-color: transparent;\n",
              "      border-bottom-color: var(--fill-color);\n",
              "      border-left-color: var(--fill-color);\n",
              "    }\n",
              "    20% {\n",
              "      border-color: transparent;\n",
              "      border-left-color: var(--fill-color);\n",
              "      border-top-color: var(--fill-color);\n",
              "    }\n",
              "    30% {\n",
              "      border-color: transparent;\n",
              "      border-left-color: var(--fill-color);\n",
              "      border-top-color: var(--fill-color);\n",
              "      border-right-color: var(--fill-color);\n",
              "    }\n",
              "    40% {\n",
              "      border-color: transparent;\n",
              "      border-right-color: var(--fill-color);\n",
              "      border-top-color: var(--fill-color);\n",
              "    }\n",
              "    60% {\n",
              "      border-color: transparent;\n",
              "      border-right-color: var(--fill-color);\n",
              "    }\n",
              "    80% {\n",
              "      border-color: transparent;\n",
              "      border-right-color: var(--fill-color);\n",
              "      border-bottom-color: var(--fill-color);\n",
              "    }\n",
              "    90% {\n",
              "      border-color: transparent;\n",
              "      border-bottom-color: var(--fill-color);\n",
              "    }\n",
              "  }\n",
              "</style>\n",
              "\n",
              "  <script>\n",
              "    async function quickchart(key) {\n",
              "      const quickchartButtonEl =\n",
              "        document.querySelector('#' + key + ' button');\n",
              "      quickchartButtonEl.disabled = true;  // To prevent multiple clicks.\n",
              "      quickchartButtonEl.classList.add('colab-df-spinner');\n",
              "      try {\n",
              "        const charts = await google.colab.kernel.invokeFunction(\n",
              "            'suggestCharts', [key], {});\n",
              "      } catch (error) {\n",
              "        console.error('Error during call to suggestCharts:', error);\n",
              "      }\n",
              "      quickchartButtonEl.classList.remove('colab-df-spinner');\n",
              "      quickchartButtonEl.classList.add('colab-df-quickchart-complete');\n",
              "    }\n",
              "    (() => {\n",
              "      let quickchartButtonEl =\n",
              "        document.querySelector('#df-9db96db9-9933-41b8-9ad9-6f83af8a7b83 button');\n",
              "      quickchartButtonEl.style.display =\n",
              "        google.colab.kernel.accessAllowed ? 'block' : 'none';\n",
              "    })();\n",
              "  </script>\n",
              "</div>\n",
              "\n",
              "    </div>\n",
              "  </div>\n"
            ]
          },
          "metadata": {},
          "execution_count": 5
        }
      ],
      "source": [
        "drive.mount(\"/content/drive\")\n",
        "link = \"/content/drive/My Drive/large_new_data_copy.csv\"\n",
        "data = pd.read_csv(link, encoding='ISO-8859-1')\n",
        "data.head()"
      ]
    },
    {
      "cell_type": "code",
      "execution_count": null,
      "metadata": {
        "id": "0p0U3Dsj6CxG",
        "colab": {
          "base_uri": "https://localhost:8080/"
        },
        "outputId": "296f4a08-f9ea-4deb-b812-4f5f93cc0c8f"
      },
      "outputs": [
        {
          "output_type": "stream",
          "name": "stdout",
          "text": [
            "<class 'pandas.core.frame.DataFrame'>\n",
            "RangeIndex: 99758 entries, 0 to 99757\n",
            "Data columns (total 2 columns):\n",
            " #   Column   Non-Null Count  Dtype \n",
            "---  ------   --------------  ----- \n",
            " 0   Address  99758 non-null  object\n",
            " 1   Target   99758 non-null  int64 \n",
            "dtypes: int64(1), object(1)\n",
            "memory usage: 1.5+ MB\n"
          ]
        }
      ],
      "source": [
        "data.info()"
      ]
    },
    {
      "cell_type": "code",
      "source": [
        "data = data.sample(frac=1)"
      ],
      "metadata": {
        "id": "A20ezrUkTmcj"
      },
      "execution_count": null,
      "outputs": []
    },
    {
      "cell_type": "code",
      "source": [
        "data['Target'].value_counts()"
      ],
      "metadata": {
        "id": "YcAzen-amLLF",
        "colab": {
          "base_uri": "https://localhost:8080/"
        },
        "outputId": "99182d18-e03d-460d-c550-bccbd30d7df8"
      },
      "execution_count": null,
      "outputs": [
        {
          "output_type": "execute_result",
          "data": {
            "text/plain": [
              "0    51012\n",
              "1    48746\n",
              "Name: Target, dtype: int64"
            ]
          },
          "metadata": {},
          "execution_count": 8
        }
      ]
    },
    {
      "cell_type": "code",
      "execution_count": null,
      "metadata": {
        "id": "rN62Q0QGDGft",
        "colab": {
          "base_uri": "https://localhost:8080/",
          "height": 336,
          "referenced_widgets": [
            "6be637d5faf24d2d91f9e58e1e298ccd",
            "99175bd641254b6f995ac14c5cb79142",
            "6f9efac388024369980b1b20a2c597b2",
            "8db1895b5bcd498c8e41093225ed32a9",
            "ab62332f730e46dcbdefd31bea28d067",
            "6001338b67a34bb889f3383c935ded55",
            "e92ea71e8d83450d9a42ea1b84cfec80",
            "8b989c9aea1e4ff58ca063702beffb20",
            "e8db0e1f3b894e559704d2cf970000a1",
            "aaf50614809844a59d64ec8b91d641e8",
            "86916c5cc5af4ab0808633a1beb1c4e0",
            "22b6934e2a354a409bfd0b5b58bea5af",
            "f16e044e0b5848a2946647ab46c83011",
            "18d749883536468083aa6cbc735b21fb",
            "355ad25fbd474c9b9fdc5b65fb521747",
            "365eb8e5522346bd945c9a585b6a17e1",
            "7bdd10fb5b1c4d0297bf35313b6257de",
            "3325e1d25fd74f26ad0e9ae8f3e6a31e",
            "eff5a736638d47bb894d486499b4af07",
            "29fba7aae8aa4246bea76d3ed611b2ef",
            "102209866a134952bb3e3335a0621adb",
            "17a2d84d4beb41258f0fc0d4e4919de6",
            "7acaf3904aa742f6ae531130e3061306",
            "6a2526297035422ba0b71fc07ac84c80",
            "20a94ba9afb948d0a8b6bd03465aaebb",
            "a0e3ea049fe14cd8a6ddd15686f7b523",
            "fe2356f243194fbf9daae39dc77107d2",
            "f7a832efa3b140648c521049b20c9e66",
            "626b024be5ca4f6f988fb79e7ea84e61",
            "c232989dd35b4163bc0de3a55ac4a12a",
            "c90bd14c3fe7431fbb5fde3594d6739b",
            "5b771f6774e245cd80e2342f5b48dadb",
            "c6566357e94a49bba7d3613e7f514b55",
            "21670784a941415daaea91bab7d4c496",
            "956bcf450d6b46e882516f89fe890777",
            "e555e1b9fcf14d4382eb9091b43391d5",
            "1c19bedf539f4a29bbb39c47f659f443",
            "48381c9aca5c443183d1e2b72046bfe4",
            "5f20e8e2034c4b7eaa23505826819480",
            "a549e443334448d9917bb54746d36ce7",
            "46a46a73d46d474f91fc9e58f11d9b95",
            "a033c96b8034418fa860123c244df37c",
            "b14275cbb3fc40c9affa77ec261bd923",
            "93edd8037d324a07976d8882576679c9",
            "4a1452f45ef743e78da6413347b9921a",
            "dd4d77a5d4164e50909a890b976f1adb",
            "a017073bd4fa434b92e5691fd9ee348f",
            "c56e69d77e0547a2aa45685f0485aa8d",
            "00af50f3551344b08afb97c2aaa95c63",
            "d45a2244848347f481005fe4d1c0f6e5",
            "6b1305ab150d40fb9be62e10c6020c4b",
            "4c6ae44c2ff34df898f1b6719eaf533f",
            "7d4a18af0ef84734b7ab20f5a3778d20",
            "7ca713f61b6349e5be67705ba0231cc8",
            "ab24606815854eee987c7098d47c2202"
          ]
        },
        "outputId": "f773bb63-f414-4960-8d9f-210483b5ced0"
      },
      "outputs": [
        {
          "output_type": "stream",
          "name": "stderr",
          "text": [
            "/usr/local/lib/python3.10/dist-packages/huggingface_hub/utils/_token.py:88: UserWarning: \n",
            "The secret `HF_TOKEN` does not exist in your Colab secrets.\n",
            "To authenticate with the Hugging Face Hub, create a token in your settings tab (https://huggingface.co/settings/tokens), set it as secret in your Google Colab and restart your session.\n",
            "You will be able to reuse this secret in all of your notebooks.\n",
            "Please note that authentication is recommended but still optional to access public models or datasets.\n",
            "  warnings.warn(\n"
          ]
        },
        {
          "output_type": "display_data",
          "data": {
            "text/plain": [
              "tokenizer_config.json:   0%|          | 0.00/28.0 [00:00<?, ?B/s]"
            ],
            "application/vnd.jupyter.widget-view+json": {
              "version_major": 2,
              "version_minor": 0,
              "model_id": "6be637d5faf24d2d91f9e58e1e298ccd"
            }
          },
          "metadata": {}
        },
        {
          "output_type": "display_data",
          "data": {
            "text/plain": [
              "vocab.txt:   0%|          | 0.00/232k [00:00<?, ?B/s]"
            ],
            "application/vnd.jupyter.widget-view+json": {
              "version_major": 2,
              "version_minor": 0,
              "model_id": "22b6934e2a354a409bfd0b5b58bea5af"
            }
          },
          "metadata": {}
        },
        {
          "output_type": "display_data",
          "data": {
            "text/plain": [
              "tokenizer.json:   0%|          | 0.00/466k [00:00<?, ?B/s]"
            ],
            "application/vnd.jupyter.widget-view+json": {
              "version_major": 2,
              "version_minor": 0,
              "model_id": "7acaf3904aa742f6ae531130e3061306"
            }
          },
          "metadata": {}
        },
        {
          "output_type": "display_data",
          "data": {
            "text/plain": [
              "config.json:   0%|          | 0.00/570 [00:00<?, ?B/s]"
            ],
            "application/vnd.jupyter.widget-view+json": {
              "version_major": 2,
              "version_minor": 0,
              "model_id": "21670784a941415daaea91bab7d4c496"
            }
          },
          "metadata": {}
        },
        {
          "output_type": "display_data",
          "data": {
            "text/plain": [
              "model.safetensors:   0%|          | 0.00/440M [00:00<?, ?B/s]"
            ],
            "application/vnd.jupyter.widget-view+json": {
              "version_major": 2,
              "version_minor": 0,
              "model_id": "4a1452f45ef743e78da6413347b9921a"
            }
          },
          "metadata": {}
        },
        {
          "output_type": "stream",
          "name": "stderr",
          "text": [
            "Some weights of BertForSequenceClassification were not initialized from the model checkpoint at bert-base-uncased and are newly initialized: ['classifier.bias', 'classifier.weight']\n",
            "You should probably TRAIN this model on a down-stream task to be able to use it for predictions and inference.\n"
          ]
        }
      ],
      "source": [
        "# tokenizing and model\n",
        "model_name = 'bert-base-uncased'\n",
        "tokenizer = BertTokenizer.from_pretrained(model_name)\n",
        "model = BertForSequenceClassification.from_pretrained(model_name).to(device)"
      ]
    },
    {
      "cell_type": "code",
      "source": [],
      "metadata": {
        "id": "0KjRZ2gwAMZr"
      },
      "execution_count": null,
      "outputs": []
    },
    {
      "cell_type": "code",
      "execution_count": null,
      "metadata": {
        "id": "kOM8BacZDjND",
        "colab": {
          "base_uri": "https://localhost:8080/"
        },
        "outputId": "68be0565-11cc-499e-a1e5-7f575fd5187d"
      },
      "outputs": [
        {
          "output_type": "execute_result",
          "data": {
            "text/plain": [
              "((69830, 2), (29928, 2))"
            ]
          },
          "metadata": {},
          "execution_count": 10
        }
      ],
      "source": [
        "train_data, test_data = train_test_split(data, test_size = 0.3)\n",
        "train_data.shape, test_data.shape"
      ]
    },
    {
      "cell_type": "code",
      "execution_count": null,
      "metadata": {
        "id": "6U7ZT6hSEVh7"
      },
      "outputs": [],
      "source": [
        "# Tokenize and encode the data\n",
        "def tokenize_data(data, tokenizer, max_length=128):\n",
        "    tokenized_data = tokenizer(\n",
        "        data['Address'].tolist(),\n",
        "        padding=\"max_length\",\n",
        "        truncation=True,\n",
        "        return_tensors=\"pt\",\n",
        "        max_length=max_length\n",
        "    )\n",
        "    labels = torch.tensor(data['Target'].tolist())\n",
        "    tokenized_data['labels'] = labels\n",
        "    return tokenized_data\n",
        "\n",
        "train_tokenized_data = tokenize_data(train_data, tokenizer)\n",
        "test_tokenized_data = tokenize_data(test_data, tokenizer)"
      ]
    },
    {
      "cell_type": "code",
      "execution_count": null,
      "metadata": {
        "id": "KEN8yO0IGaFp"
      },
      "outputs": [],
      "source": [
        "# Create DataLoaders\n",
        "batch_size = 5  # Adjust the batch size as needed\n",
        "\n",
        "train_dataset = torch.utils.data.TensorDataset(\n",
        "    train_tokenized_data['input_ids'],\n",
        "    train_tokenized_data['attention_mask'],\n",
        "    train_tokenized_data['labels']\n",
        ")\n",
        "\n",
        "train_dataloader = torch.utils.data.DataLoader(train_dataset, batch_size=batch_size, shuffle=True)\n",
        "\n",
        "# Define training arguments\n",
        "\n",
        "learning_rate = 2e-5"
      ]
    },
    {
      "cell_type": "code",
      "execution_count": null,
      "metadata": {
        "id": "mXax-CPPGg0R"
      },
      "outputs": [],
      "source": [
        "test_dataset = torch.utils.data.TensorDataset(\n",
        "    test_tokenized_data['input_ids'],\n",
        "    test_tokenized_data['attention_mask'],\n",
        "    test_tokenized_data['labels']\n",
        ")\n",
        "test_dataloader = torch.utils.data.DataLoader(train_dataset, batch_size=batch_size, shuffle=True)"
      ]
    },
    {
      "cell_type": "code",
      "source": [],
      "metadata": {
        "id": "GNabtnxABhIl"
      },
      "execution_count": null,
      "outputs": []
    },
    {
      "cell_type": "code",
      "execution_count": null,
      "metadata": {
        "id": "IsjDiOjzHCcs"
      },
      "outputs": [],
      "source": [
        "# training\n",
        "training_args = TrainingArguments(\n",
        "    output_dir=\"./results\",\n",
        "    evaluation_strategy=\"steps\",\n",
        "    eval_steps=500,\n",
        "    save_total_limit=2,\n",
        "    per_device_train_batch_size=3,\n",
        "    per_device_eval_batch_size=3,\n",
        "    num_train_epochs=6,\n",
        "    save_steps=500,\n",
        "    save_strategy=\"steps\",\n",
        "    remove_unused_columns=False,\n",
        "\n",
        ")"
      ]
    },
    {
      "cell_type": "code",
      "execution_count": null,
      "metadata": {
        "id": "BFhuF1NyHGqL"
      },
      "outputs": [],
      "source": [
        "from torch.nn import CrossEntropyLoss\n",
        "# Define a loss function\n",
        "loss_fn = CrossEntropyLoss()\n",
        "\n",
        "# Define an optimizer\n",
        "optimizer = SGD(model.parameters(), lr = learning_rate)"
      ]
    },
    {
      "cell_type": "code",
      "source": [
        "early_stop_callback = EarlyStoppingCallback(early_stopping_patience=1, early_stopping_threshold = 0.01)"
      ],
      "metadata": {
        "id": "QzOBNM-41hi4"
      },
      "execution_count": null,
      "outputs": []
    },
    {
      "cell_type": "code",
      "source": [
        "num_train_steps = len(train_dataloader)*training_args.num_train_epochs\n",
        "scheduler = get_linear_schedule_with_warmup(optimizer, num_warmup_steps = 1000, num_training_steps = num_train_steps)"
      ],
      "metadata": {
        "id": "vn9F_DX_DBwe"
      },
      "execution_count": null,
      "outputs": []
    },
    {
      "cell_type": "code",
      "source": [
        "num_train_steps"
      ],
      "metadata": {
        "id": "drr8unbWNr9X",
        "colab": {
          "base_uri": "https://localhost:8080/"
        },
        "outputId": "e4219f98-be19-4f57-e346-ac191a4a60c6"
      },
      "execution_count": null,
      "outputs": [
        {
          "output_type": "execute_result",
          "data": {
            "text/plain": [
              "83796"
            ]
          },
          "metadata": {},
          "execution_count": 18
        }
      ]
    },
    {
      "cell_type": "code",
      "execution_count": null,
      "metadata": {
        "id": "XT1Dd_h_HJcE",
        "colab": {
          "base_uri": "https://localhost:8080/"
        },
        "outputId": "4acdcb15-b22a-4780-d303-0d24364396f1"
      },
      "outputs": [
        {
          "output_type": "stream",
          "name": "stdout",
          "text": [
            "Epoch 1 - Average Loss: 0.1140029540998464\n",
            "Epoch 2 - Average Loss: 0.008498021145878042\n",
            "Epoch 3 - Average Loss: 0.0050798641367400385\n",
            "Epoch 4 - Average Loss: 0.004514582221427342\n",
            "Epoch 5 - Average Loss: 0.0036943082000547973\n",
            "Epoch 6 - Average Loss: 0.003620370466767541\n"
          ]
        }
      ],
      "source": [
        "# Initialize early stopping parameters\n",
        "patience = 1  # Early stopping patience\n",
        "no_improvement_counter = 0\n",
        "best_loss = float('inf')\n",
        "\n",
        "# Training loop\n",
        "for epoch in range(training_args.num_train_epochs):\n",
        "    model.train()\n",
        "    total_loss = 0.0\n",
        "    for batch in train_dataloader:\n",
        "        inputs = batch[0].to(device)\n",
        "        attention_mask = batch[1].to(device)\n",
        "        labels = batch[2].to(device)\n",
        "\n",
        "        # Forward pass\n",
        "        outputs = model(inputs, attention_mask=attention_mask, labels=labels)\n",
        "        loss = outputs.loss\n",
        "\n",
        "        # Backpropagation\n",
        "        optimizer.zero_grad()\n",
        "        loss.backward()\n",
        "        optimizer.step()\n",
        "        scheduler.step() # update the learning rate\n",
        "\n",
        "        total_loss += loss.item()\n",
        "\n",
        "    avg_loss = total_loss / len(train_dataloader)\n",
        "    print(f\"Epoch {epoch + 1} - Average Loss: {avg_loss}\")\n",
        "\n",
        "    # Early stopping\n",
        "    if avg_loss < best_loss:\n",
        "        best_loss = avg_loss\n",
        "        no_improvement_counter = 0  # Reset counter\n",
        "    else:\n",
        "        no_improvement_counter += 1\n",
        "\n",
        "    if no_improvement_counter >= patience:\n",
        "        print(\"Early stopping triggered due to no improvement in validation loss for \"\n",
        "              f\"{patience} consecutive epochs.\")\n",
        "        break  # End training loop\n"
      ]
    },
    {
      "cell_type": "code",
      "execution_count": null,
      "metadata": {
        "id": "2wfuyjDMHMIp",
        "colab": {
          "base_uri": "https://localhost:8080/"
        },
        "outputId": "bb1939bc-6820-478c-d8b4-a91559f68bcc"
      },
      "outputs": [
        {
          "output_type": "stream",
          "name": "stdout",
          "text": [
            "Test Accuracy: 0.999742231132751\n"
          ]
        }
      ],
      "source": [
        "# Evaluate the model\n",
        "model.eval()\n",
        "with torch.no_grad():\n",
        "    total_preds = []\n",
        "    total_labels = []\n",
        "    for batch in test_dataloader:\n",
        "        inputs = batch[0].to(device)\n",
        "        attention_mask = batch[1].to(device)\n",
        "        labels = batch[2].to(device)\n",
        "\n",
        "        outputs = model(inputs, attention_mask=attention_mask)\n",
        "        logits = outputs.logits\n",
        "\n",
        "        preds = np.argmax(logits.cpu().numpy(), axis=1)  # Convert to NumPy array and specify axis\n",
        "        total_preds.extend(preds)\n",
        "        total_labels.extend(labels.cpu().numpy())\n",
        "\n",
        "    accuracy = (np.array(total_preds) == np.array(total_labels)).mean()\n",
        "    print(\"Test Accuracy:\", accuracy)\n"
      ]
    },
    {
      "cell_type": "code",
      "source": [
        "#model.save_pretrained('/content/drive/My Drive/Address_optimizer/large_new_data')\n",
        "\n",
        "drive.mount(\"/content/drive\")\n",
        "\n",
        "# Save the entire model, including the state_dict, optimizer state, and other information\n",
        "torch.save(model.state_dict(), '/content/drive/My Drive/Address_optimizer/large_new_data/pytorch_model.bin')\n",
        "\n",
        "# Save the configuration and tokenizer separately (if needed)\n",
        "model.config.save_pretrained('/content/drive/My Drive/Address_optimizer/large_new_data')\n",
        "tokenizer.save_pretrained('/content/drive/My Drive/Address_optimizer/large_new_data')"
      ],
      "metadata": {
        "id": "tLtT_d7Mlzsy",
        "colab": {
          "base_uri": "https://localhost:8080/"
        },
        "outputId": "ffbced83-4888-4eed-9372-8fc727fe0f50"
      },
      "execution_count": null,
      "outputs": [
        {
          "output_type": "stream",
          "name": "stdout",
          "text": [
            "Drive already mounted at /content/drive; to attempt to forcibly remount, call drive.mount(\"/content/drive\", force_remount=True).\n"
          ]
        },
        {
          "output_type": "execute_result",
          "data": {
            "text/plain": [
              "('/content/drive/My Drive/Address_optimizer/large_new_data/tokenizer_config.json',\n",
              " '/content/drive/My Drive/Address_optimizer/large_new_data/special_tokens_map.json',\n",
              " '/content/drive/My Drive/Address_optimizer/large_new_data/vocab.txt',\n",
              " '/content/drive/My Drive/Address_optimizer/large_new_data/added_tokens.json')"
            ]
          },
          "metadata": {},
          "execution_count": 21
        }
      ]
    },
    {
      "cell_type": "code",
      "execution_count": null,
      "metadata": {
        "id": "e61eCsGZHYun"
      },
      "outputs": [],
      "source": [
        "import torch\n",
        "import numpy as np\n",
        "\n",
        "def classify_unknown_address(unknown_address, tokenizer, model, device):\n",
        "    # Tokenize the unknown address\n",
        "    encoded_input = tokenizer(unknown_address, padding=\"max_length\", truncation=True, return_tensors=\"pt\")\n",
        "    encoded_input.to(device)  # Move input to the same device as the model\n",
        "    model.eval()\n",
        "\n",
        "    with torch.no_grad():\n",
        "        output = model(**encoded_input)\n",
        "        logits = output.logits\n",
        "\n",
        "        # Calculate the class probabilities using softmax\n",
        "        probabilities = torch.softmax(logits, dim=1)\n",
        "        predicted_class = torch.argmax(probabilities, dim=1).item()\n",
        "\n",
        "    # Define a mapping from class index to statement\n",
        "    class_to_statement = {\n",
        "        0: \"improper\",\n",
        "        1: \"proper\"\n",
        "    }\n",
        "\n",
        "    # Print the input address and the classification statement\n",
        "    print(\"Input Address:\", unknown_address)\n",
        "    classification_statement = f\"The address is {class_to_statement[predicted_class]} with a probability of {probabilities[0][predicted_class]:.2f}.\"\n",
        "    print(classification_statement)\n",
        "\n",
        "    return classification_statement\n"
      ]
    },
    {
      "cell_type": "code",
      "execution_count": null,
      "metadata": {
        "id": "VSh5IfJSH8c6",
        "colab": {
          "base_uri": "https://localhost:8080/"
        },
        "outputId": "ba6eea1d-5fe4-43b8-e6f3-9cee9029594f"
      },
      "outputs": [
        {
          "output_type": "stream",
          "name": "stdout",
          "text": [
            "Input Address: 3rd Floor, Lakshmi Associates, Gandhi Bazaar Main Road, Above Reliance Trends, Basavanagudi, Bangalore\n",
            "The address is proper with a probability of 1.00.\n"
          ]
        }
      ],
      "source": [
        "# proper\n",
        "unknown_address = '3rd Floor, Lakshmi Associates, Gandhi Bazaar Main Road, Above Reliance Trends, Basavanagudi, Bangalore'\n",
        "predicted_class = classify_unknown_address(unknown_address, tokenizer, model, device)\n"
      ]
    },
    {
      "cell_type": "code",
      "source": [
        "# proper\n",
        "unknown_address = \"501, New Friends Building, Junction of KC Marg, Off Bazaar Road, Bnadra West, Mumbai Maharashtra - 400050\"\n",
        "predicted_class = classify_unknown_address(unknown_address, tokenizer, model, device)"
      ],
      "metadata": {
        "id": "4NVhxqhmf7f-",
        "colab": {
          "base_uri": "https://localhost:8080/"
        },
        "outputId": "46a6a01c-402a-427c-dbc3-dccea9cc4f5a"
      },
      "execution_count": null,
      "outputs": [
        {
          "output_type": "stream",
          "name": "stdout",
          "text": [
            "Input Address: 501, New Friends Building, Junction of KC Marg, Off Bazaar Road, Bnadra West, Mumbai Maharashtra - 400050\n",
            "The address is proper with a probability of 1.00.\n"
          ]
        }
      ]
    },
    {
      "cell_type": "code",
      "execution_count": null,
      "metadata": {
        "id": "4qF5tGFwIBBI",
        "colab": {
          "base_uri": "https://localhost:8080/"
        },
        "outputId": "7e8ea188-d9cd-4e1e-9781-9cee6c5ae5de"
      },
      "outputs": [
        {
          "output_type": "stream",
          "name": "stdout",
          "text": [
            "Input Address: University of Mumbai,Vidya Nagari, Kalina, Santacruz East, Mumbai, Maharashtra 400098\n",
            "The address is proper with a probability of 1.00.\n"
          ]
        }
      ],
      "source": [
        "# proper\n",
        "unknown_address = \"University of Mumbai,Vidya Nagari, Kalina, Santacruz East, Mumbai, Maharashtra 400098\"\n",
        "predicted_class = classify_unknown_address(unknown_address, tokenizer, model, device)\n"
      ]
    },
    {
      "cell_type": "code",
      "execution_count": null,
      "metadata": {
        "id": "TtQVLQ87IEGq",
        "colab": {
          "base_uri": "https://localhost:8080/"
        },
        "outputId": "d4cc8d2f-8898-4d6a-bcba-2ab78832869e"
      },
      "outputs": [
        {
          "output_type": "stream",
          "name": "stdout",
          "text": [
            "Input Address: University of mnjhuytfdxs, Vidya Nagari, Santacruz East, Mumbai,Maharashtra 400098\n",
            "The address is proper with a probability of 1.00.\n"
          ]
        }
      ],
      "source": [
        "#Improper # add\n",
        "unknown_address = \"University of mnjhuytfdxs, Vidya Nagari, Santacruz East, Mumbai,Maharashtra 400098\"\n",
        "predicted_class = classify_unknown_address(unknown_address, tokenizer, model, device)\n"
      ]
    },
    {
      "cell_type": "code",
      "execution_count": null,
      "metadata": {
        "id": "_uAbtdqYIKro",
        "colab": {
          "base_uri": "https://localhost:8080/"
        },
        "outputId": "c12d46a1-e533-4cd2-d68f-04d25546201b"
      },
      "outputs": [
        {
          "output_type": "stream",
          "name": "stdout",
          "text": [
            "Input Address: University of piytr, Vidya Nagari, g##585, Santacruz East, Mumbai, Maharashtra 400098\n",
            "The address is proper with a probability of 1.00.\n"
          ]
        }
      ],
      "source": [
        "#Improper\n",
        "unknown_address = \"University of piytr, Vidya Nagari, g##585, Santacruz East, Mumbai, Maharashtra 400098\"\n",
        "predicted_class = classify_unknown_address(unknown_address, tokenizer, model, device)"
      ]
    },
    {
      "cell_type": "code",
      "execution_count": null,
      "metadata": {
        "id": "msPrcdY3Vn6b",
        "colab": {
          "base_uri": "https://localhost:8080/"
        },
        "outputId": "f1ed8b71-958a-4ad5-928a-98c43d67e42f"
      },
      "outputs": [
        {
          "output_type": "stream",
          "name": "stdout",
          "text": [
            "Input Address: New Friends , crftyujnbvg on KC Marg, Bandra West ,Mumbai, 4000050\n",
            "The address is improper with a probability of 0.79.\n"
          ]
        }
      ],
      "source": [
        "#Improper\n",
        "unknown_address = \"New Friends , crftyujnbvg on KC Marg, Bandra West ,Mumbai, 4000050\"\n",
        "predicted_class = classify_unknown_address(unknown_address, tokenizer, model, device)"
      ]
    },
    {
      "cell_type": "code",
      "execution_count": null,
      "metadata": {
        "id": "dS8o7OPzCzPg",
        "colab": {
          "base_uri": "https://localhost:8080/"
        },
        "outputId": "ab70033f-e603-46e5-81d7-47efc20af802"
      },
      "outputs": [
        {
          "output_type": "stream",
          "name": "stdout",
          "text": [
            "Input Address: Spectrum Tower, A-102, Wework, New Link Rd, Malad West, Mumbai, Maharashtra 400064\n",
            "The address is proper with a probability of 1.00.\n"
          ]
        }
      ],
      "source": [
        "#proper\n",
        "unknown_address = \"Spectrum Tower, A-102, Wework, New Link Rd, Malad West, Mumbai, Maharashtra 400064\"\n",
        "predicted_class = classify_unknown_address(unknown_address, tokenizer, model, device)"
      ]
    },
    {
      "cell_type": "code",
      "execution_count": null,
      "metadata": {
        "id": "nAK5M6zmJlSu",
        "colab": {
          "base_uri": "https://localhost:8080/"
        },
        "outputId": "964cc824-dd4f-4baf-d39f-701b4cf5c571"
      },
      "outputs": [
        {
          "output_type": "stream",
          "name": "stdout",
          "text": [
            "Input Address: Spectrum Tower, A-102, WeWork , New Link Rd, xdrftgbvcfg West, Mumbai, Maharashtra 400064\n",
            "The address is proper with a probability of 0.99.\n"
          ]
        }
      ],
      "source": [
        "#Improper\n",
        "unknown_address = \"Spectrum Tower, A-102, WeWork , New Link Rd, xdrftgbvcfg West, Mumbai, Maharashtra 400064\"\n",
        "predicted_class = classify_unknown_address(unknown_address, tokenizer, model, device)"
      ]
    },
    {
      "cell_type": "code",
      "execution_count": null,
      "metadata": {
        "id": "5yuwlvOvJpJB",
        "colab": {
          "base_uri": "https://localhost:8080/"
        },
        "outputId": "939b85c3-0620-4db1-afe4-725fd3c47a99"
      },
      "outputs": [
        {
          "output_type": "stream",
          "name": "stdout",
          "text": [
            "Input Address: Spectrum xdrftgh, A-102, WeWork , New  Rd, Malad West, Mumbai, 400064\n",
            "The address is improper with a probability of 1.00.\n"
          ]
        }
      ],
      "source": [
        "#Improper\n",
        "unknown_address = \"Spectrum xdrftgh, A-102, WeWork , New  Rd, Malad West, Mumbai, 400064\"\n",
        "predicted_class = classify_unknown_address(unknown_address, tokenizer, model, device) # add in data as 0 and test by\n",
        "# replacing the improper words"
      ]
    },
    {
      "cell_type": "code",
      "execution_count": null,
      "metadata": {
        "id": "gQxSiD-lJtaD",
        "colab": {
          "base_uri": "https://localhost:8080/"
        },
        "outputId": "fdfc1fc5-c9fd-4102-dfa4-2779f725f941"
      },
      "outputs": [
        {
          "output_type": "stream",
          "name": "stdout",
          "text": [
            "Input Address: Shop No 101, 1st Floor Hill Road, Bandra West Next to St Stanislaus School, Mumbai, Maharashtra 400050\n",
            "The address is proper with a probability of 1.00.\n"
          ]
        }
      ],
      "source": [
        "#proper\n",
        "unknown_address = \"Shop No 101, 1st Floor Hill Road, Bandra West Next to St Stanislaus School, Mumbai, Maharashtra 400050\"\n",
        "predicted_class = classify_unknown_address(unknown_address, tokenizer, model, device)"
      ]
    },
    {
      "cell_type": "code",
      "execution_count": null,
      "metadata": {
        "id": "NMVxmu7zLfA2",
        "colab": {
          "base_uri": "https://localhost:8080/"
        },
        "outputId": "fec9dc7c-88a9-4fea-b550-b8b726e7a666"
      },
      "outputs": [
        {
          "output_type": "stream",
          "name": "stdout",
          "text": [
            "Input Address: Shop No 101, 1st xderfgh Hill Road, Bandra West Next to St Stanislaus School, bvgyhnbvf, 400050\n",
            "The address is proper with a probability of 1.00.\n"
          ]
        }
      ],
      "source": [
        "#Improper\n",
        "unknown_address = \"Shop No 101, 1st xderfgh Hill Road, Bandra West Next to St Stanislaus School, bvgyhnbvf, 400050\"\n",
        "predicted_class = classify_unknown_address(unknown_address, tokenizer, model, device)"
      ]
    },
    {
      "cell_type": "markdown",
      "source": [
        "Below one not included in accuracy calculation"
      ],
      "metadata": {
        "id": "kP83HARmqFFT"
      }
    },
    {
      "cell_type": "code",
      "execution_count": null,
      "metadata": {
        "id": "wi9OHPo8NQ17",
        "colab": {
          "base_uri": "https://localhost:8080/"
        },
        "outputId": "a3128fbb-5340-44e2-f1cd-b9c77b69f0bb"
      },
      "outputs": [
        {
          "output_type": "stream",
          "name": "stdout",
          "text": [
            "Input Address: Spectrum Tower, A-102, WeWork , mjubvfdef  Rd, Malad West, Mumbai, 400064\n",
            "The address is proper with a probability of 0.90.\n"
          ]
        }
      ],
      "source": [
        "unknown_address = \"Spectrum Tower, A-102, WeWork , mjubvfdef  Rd, Malad West, Mumbai, 400064\"\n",
        "predicted_class = classify_unknown_address(unknown_address, tokenizer, model, device) # add in data as 0 and test by\n",
        "# replacing the improper words"
      ]
    },
    {
      "cell_type": "code",
      "source": [
        "unknown_address = \"Spectrum Tower, A-102, WeWork , New Link Rd, Malad West, Mumbai, 400064\"\n",
        "predicted_class = classify_unknown_address(unknown_address, tokenizer, model, device) # add in data as 0 and test by\n",
        "# replacing the improper words"
      ],
      "metadata": {
        "id": "SnA_sbiKiumH",
        "colab": {
          "base_uri": "https://localhost:8080/"
        },
        "outputId": "4bdc7a42-8892-4167-d99a-77f7f5b4d96b"
      },
      "execution_count": null,
      "outputs": [
        {
          "output_type": "stream",
          "name": "stdout",
          "text": [
            "Input Address: Spectrum Tower, A-102, WeWork , New Link Rd, Malad West, Mumbai, 400064\n",
            "The address is improper with a probability of 0.97.\n"
          ]
        }
      ]
    },
    {
      "cell_type": "code",
      "source": [],
      "metadata": {
        "id": "Bbmm-ydcryXW"
      },
      "execution_count": null,
      "outputs": []
    },
    {
      "cell_type": "markdown",
      "source": [
        "### FOR ACCURACY"
      ],
      "metadata": {
        "id": "rCdnx63OrKat"
      }
    },
    {
      "cell_type": "code",
      "source": [],
      "metadata": {
        "id": "x08fKErE4clB"
      },
      "execution_count": null,
      "outputs": []
    },
    {
      "cell_type": "code",
      "source": [
        "# proper1\n",
        "unknown_address = \"505, Manuel Gonsalves Rd, Bandra West, Mumbai, Maharashtra 400050\"\n",
        "predicted_class = classify_unknown_address(unknown_address, tokenizer, model, device)"
      ],
      "metadata": {
        "id": "b0kYvlQ6B_ip",
        "colab": {
          "base_uri": "https://localhost:8080/"
        },
        "outputId": "ad0ee6c5-1884-4f8a-b4c2-4bc5a3ee8235"
      },
      "execution_count": null,
      "outputs": [
        {
          "output_type": "stream",
          "name": "stdout",
          "text": [
            "Input Address: 505, Manuel Gonsalves Rd, Bandra West, Mumbai, Maharashtra 400050\n",
            "The address is proper with a probability of 1.00.\n"
          ]
        }
      ]
    },
    {
      "cell_type": "code",
      "source": [
        "# Proper2\n",
        "unknown_address = \"WING-E, 13-14, Off, New Link Rd, opp. Movie Time Cinema, Evershine Nagar, Malad West, Mumbai, Maharashtra 400064\"\n",
        "predicted_class = classify_unknown_address(unknown_address, tokenizer, model, device)"
      ],
      "metadata": {
        "id": "m-NtDNCsYace",
        "colab": {
          "base_uri": "https://localhost:8080/"
        },
        "outputId": "af4b28f0-af03-4712-b482-86336d1fa668"
      },
      "execution_count": null,
      "outputs": [
        {
          "output_type": "stream",
          "name": "stdout",
          "text": [
            "Input Address: WING-E, 13-14, Off, New Link Rd, opp. Movie Time Cinema, Evershine Nagar, Malad West, Mumbai, Maharashtra 400064\n",
            "The address is proper with a probability of 1.00.\n"
          ]
        }
      ]
    },
    {
      "cell_type": "code",
      "source": [
        "# IMproper1\n",
        "unknown_address = \"505, zdrtghjui Gonsalves Rd, Bandra West, Mumbai, Maharashtra 400050 \"\n",
        "predicted_class = classify_unknown_address(unknown_address, tokenizer, model, device)"
      ],
      "metadata": {
        "id": "KOtuMi8dqnvp",
        "colab": {
          "base_uri": "https://localhost:8080/"
        },
        "outputId": "13f8a722-6413-42f0-b1fc-f8fa4bcb1cf8"
      },
      "execution_count": null,
      "outputs": [
        {
          "output_type": "stream",
          "name": "stdout",
          "text": [
            "Input Address: 505, zdrtghjui Gonsalves Rd, Bandra West, Mumbai, Maharashtra 400050 \n",
            "The address is proper with a probability of 1.00.\n"
          ]
        }
      ]
    },
    {
      "cell_type": "code",
      "source": [
        "# ImProper2\n",
        "unknown_address = \"7, ertyuiopjhbvc, Grant Plaza,Vasai, Mumbai, Maharashtra 347605\"\n",
        "predicted_class = classify_unknown_address(unknown_address, tokenizer, model, device)"
      ],
      "metadata": {
        "id": "FlOU0K38rPKE",
        "colab": {
          "base_uri": "https://localhost:8080/"
        },
        "outputId": "10ccc2b8-f74f-4523-c3d9-977ce2f2e120"
      },
      "execution_count": null,
      "outputs": [
        {
          "output_type": "stream",
          "name": "stdout",
          "text": [
            "Input Address: 7, ertyuiopjhbvc, Grant Plaza,Vasai, Mumbai, Maharashtra 347605\n",
            "The address is improper with a probability of 1.00.\n"
          ]
        }
      ]
    },
    {
      "cell_type": "code",
      "source": [
        "# ImProper3\n",
        "unknown_address = \"xdftgbhusd, Apollo Bandar, Colaba, Mumbai, Maharashtra 400001\"\n",
        "predicted_class = classify_unknown_address(unknown_address, tokenizer, model, device)"
      ],
      "metadata": {
        "id": "MKW7C4Yyr0uF",
        "colab": {
          "base_uri": "https://localhost:8080/"
        },
        "outputId": "3d148780-9fd0-487f-ae7d-521322fb5de0"
      },
      "execution_count": null,
      "outputs": [
        {
          "output_type": "stream",
          "name": "stdout",
          "text": [
            "Input Address: xdftgbhusd, Apollo Bandar, Colaba, Mumbai, Maharashtra 400001\n",
            "The address is proper with a probability of 0.97.\n"
          ]
        }
      ]
    },
    {
      "cell_type": "code",
      "source": [
        "# Improper4\n",
        "unknown_address = \"702 Western abcdefgh, Sir Mathuradas Vasanji Rd Junction, Mumbai, Maharashtra 400069\"\n",
        "predicted_class = classify_unknown_address(unknown_address, tokenizer, model, device)"
      ],
      "metadata": {
        "id": "VeQCJYlysJRa",
        "colab": {
          "base_uri": "https://localhost:8080/"
        },
        "outputId": "c6aa0354-6060-46c9-e191-b4fc125042e1"
      },
      "execution_count": null,
      "outputs": [
        {
          "output_type": "stream",
          "name": "stdout",
          "text": [
            "Input Address: 702 Western abcdefgh, Sir Mathuradas Vasanji Rd Junction, Mumbai, Maharashtra 400069\n",
            "The address is proper with a probability of 1.00.\n"
          ]
        }
      ]
    },
    {
      "cell_type": "code",
      "source": [
        "# ImProper5\n",
        "unknown_address = \"702 Western Express Highway, Sir Mathuradas Vasanji Rd Junction, Mumbai, Maharashtra 400069\"\n",
        "predicted_class = classify_unknown_address(unknown_address, tokenizer, model, device)"
      ],
      "metadata": {
        "id": "rJ0FVAfdvQhu",
        "colab": {
          "base_uri": "https://localhost:8080/"
        },
        "outputId": "9810499d-e22e-49fc-d1a7-5645ed1a4f52"
      },
      "execution_count": null,
      "outputs": [
        {
          "output_type": "stream",
          "name": "stdout",
          "text": [
            "Input Address: 702 Western Express Highway, Sir Mathuradas Vasanji Rd Junction, Mumbai, Maharashtra 400069\n",
            "The address is proper with a probability of 1.00.\n"
          ]
        }
      ]
    },
    {
      "cell_type": "code",
      "source": [
        "# Proper3\n",
        "unknown_address = \"Pokharan Rd Number 2, Siddhachal Housing Society, Pawar Nagar, Thane West, Thane, Maharashtra 400610\"\n",
        "predicted_class = classify_unknown_address(unknown_address, tokenizer, model, device)"
      ],
      "metadata": {
        "id": "dirwll7tv-qs",
        "colab": {
          "base_uri": "https://localhost:8080/"
        },
        "outputId": "df9348e4-5a41-4cdb-946c-e653488d325f"
      },
      "execution_count": null,
      "outputs": [
        {
          "output_type": "stream",
          "name": "stdout",
          "text": [
            "Input Address: Pokharan Rd Number 2, Siddhachal Housing Society, Pawar Nagar, Thane West, Thane, Maharashtra 400610\n",
            "The address is proper with a probability of 1.00.\n"
          ]
        }
      ]
    },
    {
      "cell_type": "code",
      "source": [
        "# ImProper6\n",
        "unknown_address = \"Pokharan Rd Number 2, xyzxyzxyz, Pawar Nagar, Thane West, Thane, Maharashtra 400610\"\n",
        "predicted_class = classify_unknown_address(unknown_address, tokenizer, model, device)"
      ],
      "metadata": {
        "id": "NOE93Kdex3c6",
        "colab": {
          "base_uri": "https://localhost:8080/"
        },
        "outputId": "c69a4a55-61f5-4df6-d960-0e3dc50a92dd"
      },
      "execution_count": null,
      "outputs": [
        {
          "output_type": "stream",
          "name": "stdout",
          "text": [
            "Input Address: Pokharan Rd Number 2, xyzxyzxyz, Pawar Nagar, Thane West, Thane, Maharashtra 400610\n",
            "The address is proper with a probability of 0.99.\n"
          ]
        }
      ]
    },
    {
      "cell_type": "code",
      "source": [
        "# ImProper7\n",
        "unknown_address = \"Suresh Complex, S.No-151/12/1, wqsdrtgfthnk - Kharadi Rd, Hadapsar, Pune, Maharashtra 411013\"\n",
        "predicted_class = classify_unknown_address(unknown_address, tokenizer, model, device)"
      ],
      "metadata": {
        "id": "KXkIEocByCHQ",
        "colab": {
          "base_uri": "https://localhost:8080/"
        },
        "outputId": "2fc73056-e91d-4de7-fe28-d206fa4aca65"
      },
      "execution_count": null,
      "outputs": [
        {
          "output_type": "stream",
          "name": "stdout",
          "text": [
            "Input Address: Suresh Complex, S.No-151/12/1, wqsdrtgfthnk - Kharadi Rd, Hadapsar, Pune, Maharashtra 411013\n",
            "The address is proper with a probability of 1.00.\n"
          ]
        }
      ]
    },
    {
      "cell_type": "code",
      "source": [
        "# Proper4\n",
        "unknown_address = \"19th Floor, Concorde Tower C, UB City, No.24, Vittal Mallya Road, Bangalore 560001, India\"\n",
        "predicted_class = classify_unknown_address(unknown_address, tokenizer, model, device)"
      ],
      "metadata": {
        "id": "3c9gmzLIsoH4",
        "colab": {
          "base_uri": "https://localhost:8080/"
        },
        "outputId": "be8424b2-a774-4a7b-8efd-b6ba17599067"
      },
      "execution_count": null,
      "outputs": [
        {
          "output_type": "stream",
          "name": "stdout",
          "text": [
            "Input Address: 19th Floor, Concorde Tower C, UB City, No.24, Vittal Mallya Road, Bangalore 560001, India\n",
            "The address is proper with a probability of 1.00.\n"
          ]
        }
      ]
    },
    {
      "cell_type": "code",
      "source": [
        "# ImProper8\n",
        "unknown_address = \"19th Floor, lkjhbgvfcdfvgb& Tower C, UB City, No.24, Vittal Mallya Road, Bangalore 560001, India\"\n",
        "predicted_class = classify_unknown_address(unknown_address, tokenizer, model, device)"
      ],
      "metadata": {
        "id": "cIyoF-YPG8wW",
        "colab": {
          "base_uri": "https://localhost:8080/"
        },
        "outputId": "bc4c9b53-1616-4de1-e806-07c73d89624b"
      },
      "execution_count": null,
      "outputs": [
        {
          "output_type": "stream",
          "name": "stdout",
          "text": [
            "Input Address: 19th Floor, lkjhbgvfcdfvgb& Tower C, UB City, No.24, Vittal Mallya Road, Bangalore 560001, India\n",
            "The address is proper with a probability of 1.00.\n"
          ]
        }
      ]
    },
    {
      "cell_type": "code",
      "source": [
        "# ImProper9\n",
        "unknown_address = \" qwertytfghjn Floor, Sameer Rd,Gold's Gym,opp.Bank of nbv$%%^#fcdxfgh, Bandra West, Mumbai, Maharashtra 400050\"\n",
        "predicted_class = classify_unknown_address(unknown_address, tokenizer, model, device)"
      ],
      "metadata": {
        "id": "WABU4f_7G8pC",
        "colab": {
          "base_uri": "https://localhost:8080/"
        },
        "outputId": "fb58a3da-6066-4a52-eb0c-a60b4166abb6"
      },
      "execution_count": null,
      "outputs": [
        {
          "output_type": "stream",
          "name": "stdout",
          "text": [
            "Input Address:  qwertytfghjn Floor, Sameer Rd,Gold's Gym,opp.Bank of nbv$%%^#fcdxfgh, Bandra West, Mumbai, Maharashtra 400050\n",
            "The address is proper with a probability of 0.99.\n"
          ]
        }
      ]
    },
    {
      "cell_type": "code",
      "source": [
        "# Proper5\n",
        "unknown_address = \"19th Floor, Concorde Tower C, UB City, No.24, Vittal Mallya Road, Bangalore 560001, India\"\n",
        "predicted_class = classify_unknown_address(unknown_address, tokenizer, model, device)"
      ],
      "metadata": {
        "id": "dfupiEDaf0Y3",
        "colab": {
          "base_uri": "https://localhost:8080/"
        },
        "outputId": "ba669adb-7e5b-4e57-fd32-956325594068"
      },
      "execution_count": null,
      "outputs": [
        {
          "output_type": "stream",
          "name": "stdout",
          "text": [
            "Input Address: 19th Floor, Concorde Tower C, UB City, No.24, Vittal Mallya Road, Bangalore 560001, India\n",
            "The address is proper with a probability of 1.00.\n"
          ]
        }
      ]
    },
    {
      "cell_type": "code",
      "source": [
        "# ImProper10\n",
        "unknown_address = \" qwertytfghjn Floor,Sameer Rd,Gold's Gym,opp.Bank of nbv$%%^#fcdxfgh, Mumbai, 400050\"\n",
        "predicted_class = classify_unknown_address(unknown_address, tokenizer, model, device)"
      ],
      "metadata": {
        "id": "vgwhwsdrf0Y7",
        "colab": {
          "base_uri": "https://localhost:8080/"
        },
        "outputId": "ed5eadfe-fd5d-4e6c-9265-e242cf72e9c5"
      },
      "execution_count": null,
      "outputs": [
        {
          "output_type": "stream",
          "name": "stdout",
          "text": [
            "Input Address:  qwertytfghjn Floor,Sameer Rd,Gold's Gym,opp.Bank of nbv$%%^#fcdxfgh, Mumbai, 400050\n",
            "The address is proper with a probability of 0.98.\n"
          ]
        }
      ]
    },
    {
      "cell_type": "code",
      "source": [
        "# Proper6\n",
        "unknown_address = \"Plot No.C-68, एवेन्यू 3, G Block BKC, Bandra Kurla Complex, Bandra East, Mumbai, Maharashtra 400051\"\n",
        "predicted_class = classify_unknown_address(unknown_address, tokenizer, model, device)"
      ],
      "metadata": {
        "id": "cPAMvgPLG8Wk",
        "colab": {
          "base_uri": "https://localhost:8080/"
        },
        "outputId": "6df28f43-8b4c-4233-fd4e-0586f74f8f14"
      },
      "execution_count": null,
      "outputs": [
        {
          "output_type": "stream",
          "name": "stdout",
          "text": [
            "Input Address: Plot No.C-68, एवेन्यू 3, G Block BKC, Bandra Kurla Complex, Bandra East, Mumbai, Maharashtra 400051\n",
            "The address is proper with a probability of 1.00.\n"
          ]
        }
      ]
    },
    {
      "cell_type": "code",
      "source": [
        "# Proper7\n",
        "unknown_address = \"Office no 39, P. M. Road, Next to Santacruz Station, Santacruz (West), Mumbai, Maharashtra 400054\"\n",
        "predicted_class = classify_unknown_address(unknown_address, tokenizer, model, device)"
      ],
      "metadata": {
        "id": "GyxFTRX0hdsC",
        "colab": {
          "base_uri": "https://localhost:8080/"
        },
        "outputId": "1123df32-dcf3-439a-b10a-5607df435c49"
      },
      "execution_count": null,
      "outputs": [
        {
          "output_type": "stream",
          "name": "stdout",
          "text": [
            "Input Address: Office no 39, P. M. Road, Next to Santacruz Station, Santacruz (West), Mumbai, Maharashtra 400054\n",
            "The address is proper with a probability of 1.00.\n"
          ]
        }
      ]
    },
    {
      "cell_type": "code",
      "source": [
        "# Improper11\n",
        "unknown_address = \"#@^&Ljxxz, एवेन्यू 3, G Block BKC, Bandra Kurla Complex, Bandra East, Xr#lls, Maharashtra 400051\"\n",
        "predicted_class = classify_unknown_address(unknown_address, tokenizer, model, device)"
      ],
      "metadata": {
        "id": "494C_SNAhkdp",
        "colab": {
          "base_uri": "https://localhost:8080/"
        },
        "outputId": "f707c3eb-1e05-4338-87e1-7f636ab72cad"
      },
      "execution_count": null,
      "outputs": [
        {
          "output_type": "stream",
          "name": "stdout",
          "text": [
            "Input Address: #@^&Ljxxz, एवेन्यू 3, G Block BKC, Bandra Kurla Complex, Bandra East, Xr#lls, Maharashtra 400051\n",
            "The address is improper with a probability of 0.97.\n"
          ]
        }
      ]
    },
    {
      "cell_type": "code",
      "source": [
        "# Improper12\n",
        "unknown_address = \"Plot no. 53, WzzXYZ%$** Area, Sector 32, Gurugram, vcdxerftghb 122018\"\n",
        "predicted_class = classify_unknown_address(unknown_address, tokenizer, model, device)"
      ],
      "metadata": {
        "id": "3ibYeH6lh3A3",
        "colab": {
          "base_uri": "https://localhost:8080/"
        },
        "outputId": "47d09d1b-8e11-49ef-fa62-f15022eb6ff6"
      },
      "execution_count": null,
      "outputs": [
        {
          "output_type": "stream",
          "name": "stdout",
          "text": [
            "Input Address: Plot no. 53, WzzXYZ%$** Area, Sector 32, Gurugram, vcdxerftghb 122018\n",
            "The address is improper with a probability of 0.94.\n"
          ]
        }
      ]
    },
    {
      "cell_type": "code",
      "source": [
        "# Improper13\n",
        "unknown_address = \"19, Bandra Kurla Complex, aaaaaaa, Mumbai, Maharashtra 400067\"\n",
        "predicted_class = classify_unknown_address(unknown_address, tokenizer, model, device)"
      ],
      "metadata": {
        "id": "PY7ZcTTtiVaL",
        "colab": {
          "base_uri": "https://localhost:8080/"
        },
        "outputId": "4c98bbc3-2e99-4521-ba10-e1b664b17dc9"
      },
      "execution_count": null,
      "outputs": [
        {
          "output_type": "stream",
          "name": "stdout",
          "text": [
            "Input Address: 19, Bandra Kurla Complex, aaaaaaa, Mumbai, Maharashtra 400067\n",
            "The address is proper with a probability of 1.00.\n"
          ]
        }
      ]
    },
    {
      "cell_type": "markdown",
      "source": [
        "### WITH Threshold =========================================="
      ],
      "metadata": {
        "id": "4d6XRe05of0u"
      }
    },
    {
      "cell_type": "code",
      "source": [
        "class_to_threshold = {\n",
        "    0: 0.5,\n",
        "    1: 0.7\n",
        "}"
      ],
      "metadata": {
        "id": "TwLHNQgNIjK0"
      },
      "execution_count": null,
      "outputs": []
    },
    {
      "cell_type": "code",
      "source": [
        "import torch\n",
        "import numpy as np\n",
        "\n",
        "def classify_unknown_address(unknown_address, tokenizer, model, device):\n",
        "    # Tokenize the unknown address\n",
        "    encoded_input = tokenizer(unknown_address, padding=\"max_length\", truncation=True, return_tensors=\"pt\")\n",
        "    encoded_input.to(device)  # Move input to the same device as the model\n",
        "    model.eval()\n",
        "\n",
        "    with torch.no_grad():\n",
        "        output = model(**encoded_input)\n",
        "        logits = output.logits\n",
        "\n",
        "        # Calculate the class probabilities using softmax\n",
        "        probabilities = torch.softmax(logits, dim=1)\n",
        "        predicted_class = torch.argmax(probabilities, dim=1).item()\n",
        "\n",
        "        # If the probability of the predicted class is below the threshold, then return the other class\n",
        "        if class_to_threshold is not None and probabilities[0][predicted_class] < class_to_threshold[predicted_class]:\n",
        "              predicted_class = 1 - predicted_class\n",
        "\n",
        "    # Define a mapping from class index to statement\n",
        "    class_to_statement = {\n",
        "        0: \"improper\",\n",
        "        1: \"proper\"\n",
        "    }\n",
        "\n",
        "    # Print the input address and the classification statement\n",
        "    print(\"Input Address:\", unknown_address)\n",
        "    classification_statement = f\"The address is {class_to_statement[predicted_class]} with a probability of {probabilities[0][predicted_class]:.2f}.\"\n",
        "    print(classification_statement)\n",
        "\n",
        "    return classification_statement\n"
      ],
      "metadata": {
        "id": "TKt6jWO3FFYP"
      },
      "execution_count": null,
      "outputs": []
    },
    {
      "cell_type": "code",
      "source": [],
      "metadata": {
        "id": "216k4I-qFLLv"
      },
      "execution_count": null,
      "outputs": []
    },
    {
      "cell_type": "code",
      "source": [
        "# proper1\n",
        "unknown_address = \"505, Manuel Gonsalves Rd, Bandra West, Mumbai, Maharashtra 400050\"\n",
        "predicted_class = classify_unknown_address(unknown_address, tokenizer, model, device)"
      ],
      "metadata": {
        "id": "j7-O3hBJpv8g",
        "colab": {
          "base_uri": "https://localhost:8080/"
        },
        "outputId": "b804c3f3-adb9-4b07-dcb1-23bdf2b15d69"
      },
      "execution_count": null,
      "outputs": [
        {
          "output_type": "stream",
          "name": "stdout",
          "text": [
            "Input Address: 505, Manuel Gonsalves Rd, Bandra West, Mumbai, Maharashtra 400050\n",
            "The address is proper with a probability of 1.00.\n"
          ]
        }
      ]
    },
    {
      "cell_type": "code",
      "source": [
        "# Proper2\n",
        "unknown_address = \"WING-E, 13-14, Off, New Link Rd, opp. Movie Time Cinema, Evershine Nagar, Malad West, Mumbai, Maharashtra 400064\"\n",
        "predicted_class = classify_unknown_address(unknown_address, tokenizer, model, device)"
      ],
      "metadata": {
        "id": "ML1C06Dnpv8v",
        "colab": {
          "base_uri": "https://localhost:8080/"
        },
        "outputId": "c11e37a6-89f5-420c-eebc-ee34de439020"
      },
      "execution_count": null,
      "outputs": [
        {
          "output_type": "stream",
          "name": "stdout",
          "text": [
            "Input Address: WING-E, 13-14, Off, New Link Rd, opp. Movie Time Cinema, Evershine Nagar, Malad West, Mumbai, Maharashtra 400064\n",
            "The address is proper with a probability of 1.00.\n"
          ]
        }
      ]
    },
    {
      "cell_type": "code",
      "source": [
        "# IMproper1\n",
        "unknown_address = \"505, zdrtghjui Gonsalves Rd, Bandra West, Mumbai, Maharashtra 400050 \"\n",
        "predicted_class = classify_unknown_address(unknown_address, tokenizer, model, device)"
      ],
      "metadata": {
        "id": "5Of6u8hjpv8v",
        "colab": {
          "base_uri": "https://localhost:8080/"
        },
        "outputId": "e6e752f1-6b55-4845-adb0-f7513b941c0d"
      },
      "execution_count": null,
      "outputs": [
        {
          "output_type": "stream",
          "name": "stdout",
          "text": [
            "Input Address: 505, zdrtghjui Gonsalves Rd, Bandra West, Mumbai, Maharashtra 400050 \n",
            "The address is proper with a probability of 1.00.\n"
          ]
        }
      ]
    },
    {
      "cell_type": "code",
      "source": [
        "# ImProper2\n",
        "unknown_address = \"7, ertyuiopjhbvc, Grant Plaza,Vasai, Mumbai, Maharashtra 347605\"\n",
        "predicted_class = classify_unknown_address(unknown_address, tokenizer, model, device)"
      ],
      "metadata": {
        "id": "1-PPOkVGpv8v",
        "colab": {
          "base_uri": "https://localhost:8080/"
        },
        "outputId": "74e4e899-4b61-4ae6-f253-a9298b7714a9"
      },
      "execution_count": null,
      "outputs": [
        {
          "output_type": "stream",
          "name": "stdout",
          "text": [
            "Input Address: 7, ertyuiopjhbvc, Grant Plaza,Vasai, Mumbai, Maharashtra 347605\n",
            "The address is improper with a probability of 1.00.\n"
          ]
        }
      ]
    },
    {
      "cell_type": "code",
      "source": [
        "# ImProper3\n",
        "unknown_address = \"xdftgbhusd, Apollo Bandar, Colaba, Mumbai, Maharashtra 400001\"\n",
        "predicted_class = classify_unknown_address(unknown_address, tokenizer, model, device)"
      ],
      "metadata": {
        "id": "uc5bdTt3pv8v",
        "colab": {
          "base_uri": "https://localhost:8080/"
        },
        "outputId": "04d6987b-1f72-4850-de7a-a6fcb2475452"
      },
      "execution_count": null,
      "outputs": [
        {
          "output_type": "stream",
          "name": "stdout",
          "text": [
            "Input Address: xdftgbhusd, Apollo Bandar, Colaba, Mumbai, Maharashtra 400001\n",
            "The address is proper with a probability of 0.97.\n"
          ]
        }
      ]
    },
    {
      "cell_type": "code",
      "source": [
        "# Improper4\n",
        "unknown_address = \"702 Western Express Highway, Sir Mathuradas Vasanji Rd, Junction, Mumbai, cxdertyhnjmk 400069\"\n",
        "predicted_class = classify_unknown_address(unknown_address, tokenizer, model, device)"
      ],
      "metadata": {
        "id": "8HhQNcCWpv8v",
        "colab": {
          "base_uri": "https://localhost:8080/"
        },
        "outputId": "ee5411c5-6fa9-4cb8-8386-2699697bc9f2"
      },
      "execution_count": null,
      "outputs": [
        {
          "output_type": "stream",
          "name": "stdout",
          "text": [
            "Input Address: 702 Western Express Highway, Sir Mathuradas Vasanji Rd, Junction, Mumbai, cxdertyhnjmk 400069\n",
            "The address is proper with a probability of 0.98.\n"
          ]
        }
      ]
    },
    {
      "cell_type": "code",
      "source": [
        "# ImProper5\n",
        "unknown_address = \"702 Western Express Highway, cdrfvghyghjuikmj, Junction, Mumbai, Maharashtra 400069\"\n",
        "predicted_class = classify_unknown_address(unknown_address, tokenizer, model, device)"
      ],
      "metadata": {
        "id": "jNPIoclIpv8v",
        "colab": {
          "base_uri": "https://localhost:8080/"
        },
        "outputId": "8bad33d6-f887-42e4-f967-3b5ede6b9245"
      },
      "execution_count": null,
      "outputs": [
        {
          "output_type": "stream",
          "name": "stdout",
          "text": [
            "Input Address: 702 Western Express Highway, cdrfvghyghjuikmj, Junction, Mumbai, Maharashtra 400069\n",
            "The address is proper with a probability of 0.99.\n"
          ]
        }
      ]
    },
    {
      "cell_type": "code",
      "source": [
        "# Proper3\n",
        "unknown_address = \"Pokharan Rd Number 2, Siddhachal Housing Society, Pawar Nagar, Thane West, Thane, Maharashtra 400610\"\n",
        "predicted_class = classify_unknown_address(unknown_address, tokenizer, model, device)"
      ],
      "metadata": {
        "id": "YrBanAYEpv8w",
        "colab": {
          "base_uri": "https://localhost:8080/"
        },
        "outputId": "a7287c5d-6944-48a7-f464-feae5d807178"
      },
      "execution_count": null,
      "outputs": [
        {
          "output_type": "stream",
          "name": "stdout",
          "text": [
            "Input Address: Pokharan Rd Number 2, Siddhachal Housing Society, Pawar Nagar, Thane West, Thane, Maharashtra 400610\n",
            "The address is proper with a probability of 1.00.\n"
          ]
        }
      ]
    },
    {
      "cell_type": "code",
      "source": [
        "# ImProper6\n",
        "unknown_address = \"Pokharan Rd Number 2, vcdfvbh, Pawar Nagar, Thane West, Thane, Maharashtra 400610\"\n",
        "predicted_class = classify_unknown_address(unknown_address, tokenizer, model, device)"
      ],
      "metadata": {
        "id": "AKeTHL7mpv8w",
        "colab": {
          "base_uri": "https://localhost:8080/"
        },
        "outputId": "1a7ca668-3ddd-406f-b38e-7eb59dc2de40"
      },
      "execution_count": null,
      "outputs": [
        {
          "output_type": "stream",
          "name": "stdout",
          "text": [
            "Input Address: Pokharan Rd Number 2, vcdfvbh, Pawar Nagar, Thane West, Thane, Maharashtra 400610\n",
            "The address is proper with a probability of 1.00.\n"
          ]
        }
      ]
    },
    {
      "cell_type": "code",
      "source": [
        "# ImProper7\n",
        "unknown_address = \"Suresh Complex, S.No-151/12/1, wqsdrtgfthnk - Kharadi Rd, Hadapsar, Pune, Maharashtra 411013\"\n",
        "predicted_class = classify_unknown_address(unknown_address, tokenizer, model, device)"
      ],
      "metadata": {
        "id": "9gWZxZklpv8w",
        "colab": {
          "base_uri": "https://localhost:8080/"
        },
        "outputId": "5be1282c-044f-4a98-e939-390f77e7ecf6"
      },
      "execution_count": null,
      "outputs": [
        {
          "output_type": "stream",
          "name": "stdout",
          "text": [
            "Input Address: Suresh Complex, S.No-151/12/1, wqsdrtgfthnk - Kharadi Rd, Hadapsar, Pune, Maharashtra 411013\n",
            "The address is proper with a probability of 1.00.\n"
          ]
        }
      ]
    },
    {
      "cell_type": "code",
      "source": [
        "# Proper4\n",
        "unknown_address = \"19th Floor, Concorde Tower C, UB City, No.24, Vittal Mallya Road, Bangalore 560001, India\"\n",
        "predicted_class = classify_unknown_address(unknown_address, tokenizer, model, device)"
      ],
      "metadata": {
        "id": "RgZM3qYspv8w",
        "colab": {
          "base_uri": "https://localhost:8080/"
        },
        "outputId": "d7758ec7-9c4b-431b-e0b7-e7a53b8115a3"
      },
      "execution_count": null,
      "outputs": [
        {
          "output_type": "stream",
          "name": "stdout",
          "text": [
            "Input Address: 19th Floor, Concorde Tower C, UB City, No.24, Vittal Mallya Road, Bangalore 560001, India\n",
            "The address is proper with a probability of 1.00.\n"
          ]
        }
      ]
    },
    {
      "cell_type": "code",
      "source": [
        "# ImProper8\n",
        "unknown_address = \"19th Floor, ZxxZ&*$# Tower C, UB City, No.24, Vittal Mallya Road, xzsdftvgbh 560001, India\"\n",
        "predicted_class = classify_unknown_address(unknown_address, tokenizer, model, device)"
      ],
      "metadata": {
        "id": "R9Zw9MVgpv8w",
        "colab": {
          "base_uri": "https://localhost:8080/"
        },
        "outputId": "535d9114-a714-4de4-a5db-433cc93ceb63"
      },
      "execution_count": null,
      "outputs": [
        {
          "output_type": "stream",
          "name": "stdout",
          "text": [
            "Input Address: 19th Floor, ZxxZ&*$# Tower C, UB City, No.24, Vittal Mallya Road, xzsdftvgbh 560001, India\n",
            "The address is proper with a probability of 1.00.\n"
          ]
        }
      ]
    },
    {
      "cell_type": "code",
      "source": [
        "# ImProper9\n",
        "unknown_address = \" qwertytfghjn Floor, Sameer Rd,Gold's Gym,opp.Bank of nv$%%^#fcdxfg, Bandra West, Mumbai, Maharashtra 400050\"\n",
        "predicted_class = classify_unknown_address(unknown_address, tokenizer, model, device)"
      ],
      "metadata": {
        "id": "EsJkTqqmpv8w",
        "colab": {
          "base_uri": "https://localhost:8080/"
        },
        "outputId": "e1a2a8cb-3ee2-4939-f663-6cd6a90763c6"
      },
      "execution_count": null,
      "outputs": [
        {
          "output_type": "stream",
          "name": "stdout",
          "text": [
            "Input Address:  qwertytfghjn Floor, Sameer Rd,Gold's Gym,opp.Bank of nv$%%^#fcdxfg, Bandra West, Mumbai, Maharashtra 400050\n",
            "The address is proper with a probability of 0.99.\n"
          ]
        }
      ]
    },
    {
      "cell_type": "code",
      "source": [
        "# Proper5\n",
        "unknown_address = \"19th Floor, Concorde Tower C, UB City, No.24, Vittal Mallya Road, Bangalore 560001, India\"\n",
        "predicted_class = classify_unknown_address(unknown_address, tokenizer, model, device)"
      ],
      "metadata": {
        "id": "4acrI_KNpv8w",
        "colab": {
          "base_uri": "https://localhost:8080/"
        },
        "outputId": "f747c2fc-4c00-4df2-a05e-b7cf6b0af96e"
      },
      "execution_count": null,
      "outputs": [
        {
          "output_type": "stream",
          "name": "stdout",
          "text": [
            "Input Address: 19th Floor, Concorde Tower C, UB City, No.24, Vittal Mallya Road, Bangalore 560001, India\n",
            "The address is proper with a probability of 1.00.\n"
          ]
        }
      ]
    },
    {
      "cell_type": "code",
      "source": [
        "# ImProper10\n",
        "unknown_address = \" qwertytfghjn Floor,Sameer Rd,Gold's Gym,opp.Bank of nbv$%%^#fcdxfgh, Mumbai, 400050\"\n",
        "predicted_class = classify_unknown_address(unknown_address, tokenizer, model, device)"
      ],
      "metadata": {
        "id": "aWatoncgpv8w",
        "colab": {
          "base_uri": "https://localhost:8080/"
        },
        "outputId": "37397ea0-54e8-401f-c932-43860b2a9a6f"
      },
      "execution_count": null,
      "outputs": [
        {
          "output_type": "stream",
          "name": "stdout",
          "text": [
            "Input Address:  qwertytfghjn Floor,Sameer Rd,Gold's Gym,opp.Bank of nbv$%%^#fcdxfgh, Mumbai, 400050\n",
            "The address is proper with a probability of 0.98.\n"
          ]
        }
      ]
    },
    {
      "cell_type": "code",
      "source": [
        "# Proper6\n",
        "unknown_address = \"Plot No.C-68, एवेन्यू 3, G Block BKC, Bandra Kurla Complex, Bandra East, Mumbai, Maharashtra 400051\"\n",
        "predicted_class = classify_unknown_address(unknown_address, tokenizer, model, device)"
      ],
      "metadata": {
        "id": "7NlEGC6_pv8x",
        "colab": {
          "base_uri": "https://localhost:8080/"
        },
        "outputId": "3b993ba5-3d3d-40d0-a06d-c53c0a438804"
      },
      "execution_count": null,
      "outputs": [
        {
          "output_type": "stream",
          "name": "stdout",
          "text": [
            "Input Address: Plot No.C-68, एवेन्यू 3, G Block BKC, Bandra Kurla Complex, Bandra East, Mumbai, Maharashtra 400051\n",
            "The address is proper with a probability of 1.00.\n"
          ]
        }
      ]
    },
    {
      "cell_type": "code",
      "source": [
        "# Proper7\n",
        "unknown_address = \"Office no 39, P. M. Road, Next to Santacruz Station, Santacruz (West), Mumbai, Maharashtra 400054\"\n",
        "predicted_class = classify_unknown_address(unknown_address, tokenizer, model, device)"
      ],
      "metadata": {
        "id": "O3snQ155pv8x",
        "colab": {
          "base_uri": "https://localhost:8080/"
        },
        "outputId": "6f3d7943-330e-4500-c1cc-22a757618040"
      },
      "execution_count": null,
      "outputs": [
        {
          "output_type": "stream",
          "name": "stdout",
          "text": [
            "Input Address: Office no 39, P. M. Road, Next to Santacruz Station, Santacruz (West), Mumbai, Maharashtra 400054\n",
            "The address is proper with a probability of 1.00.\n"
          ]
        }
      ]
    },
    {
      "cell_type": "code",
      "source": [
        "# Improper11\n",
        "unknown_address = \"#@^&Ljxxz, एवेन्यू 3, G Block BKC, Bandra Kurla Complex, Bandra East, Xr#lls, Maharashtra 400051\"\n",
        "predicted_class = classify_unknown_address(unknown_address, tokenizer, model, device)"
      ],
      "metadata": {
        "id": "3RmAsjtapv8x",
        "colab": {
          "base_uri": "https://localhost:8080/"
        },
        "outputId": "4e079d9d-6c9a-4943-b5d0-9383971b3ec7"
      },
      "execution_count": null,
      "outputs": [
        {
          "output_type": "stream",
          "name": "stdout",
          "text": [
            "Input Address: #@^&Ljxxz, एवेन्यू 3, G Block BKC, Bandra Kurla Complex, Bandra East, Xr#lls, Maharashtra 400051\n",
            "The address is improper with a probability of 0.97.\n"
          ]
        }
      ]
    },
    {
      "cell_type": "code",
      "source": [
        "# Improper12\n",
        "unknown_address = \"Plot no. 53, qwertyuiop Area, Sector 32, Gurugram, Haryana 122018\"\n",
        "predicted_class = classify_unknown_address(unknown_address, tokenizer, model, device)"
      ],
      "metadata": {
        "id": "Z6w3YrTMpv8x",
        "colab": {
          "base_uri": "https://localhost:8080/"
        },
        "outputId": "ca292ea2-66e6-4ad4-dfb0-a0bb9a6d0485"
      },
      "execution_count": null,
      "outputs": [
        {
          "output_type": "stream",
          "name": "stdout",
          "text": [
            "Input Address: Plot no. 53, qwertyuiop Area, Sector 32, Gurugram, Haryana 122018\n",
            "The address is proper with a probability of 1.00.\n"
          ]
        }
      ]
    },
    {
      "cell_type": "code",
      "source": [
        "# Improper13\n",
        "unknown_address = \"19, Bandra Kurla Complex, aaaaaaa, Mumbai, Maharashtra 400067\"\n",
        "predicted_class = classify_unknown_address(unknown_address, tokenizer, model, device)"
      ],
      "metadata": {
        "id": "RsfYIGPApv8x",
        "colab": {
          "base_uri": "https://localhost:8080/"
        },
        "outputId": "af03f48a-05a6-437a-c9f2-b9a305087269"
      },
      "execution_count": null,
      "outputs": [
        {
          "output_type": "stream",
          "name": "stdout",
          "text": [
            "Input Address: 19, Bandra Kurla Complex, aaaaaaa, Mumbai, Maharashtra 400067\n",
            "The address is proper with a probability of 1.00.\n"
          ]
        }
      ]
    },
    {
      "cell_type": "code",
      "source": [],
      "metadata": {
        "id": "F1nt2DEWu78G"
      },
      "execution_count": null,
      "outputs": []
    },
    {
      "cell_type": "code",
      "source": [
        "# Improper\n",
        "unknown_address = \"some address, XYZ Company, some street, bbbbbbbbbbbbbbbbbbbbbbbbbb, Mumbai, Maharashtra 400077\"\n",
        "predicted_class = classify_unknown_address(unknown_address, tokenizer, model, device)"
      ],
      "metadata": {
        "id": "2iOf6BoL65vH",
        "colab": {
          "base_uri": "https://localhost:8080/"
        },
        "outputId": "04660723-0cf1-46d7-a09e-fb5d595d8d54"
      },
      "execution_count": null,
      "outputs": [
        {
          "output_type": "stream",
          "name": "stdout",
          "text": [
            "Input Address: some address, XYZ Company, some street, bbbbbbbbbbbbbbbbbbbbbbbbbb, Mumbai, Maharashtra 400077\n",
            "The address is proper with a probability of 1.00.\n"
          ]
        }
      ]
    },
    {
      "cell_type": "code",
      "source": [
        "# Improper\n",
        "unknown_address = \"Z Block, Voltas Premises, TB Kadam Marg, Chinchpokli, Mumbai, Maharashtra, 400011\"\n",
        "predicted_class = classify_unknown_address(unknown_address, tokenizer, model, device)"
      ],
      "metadata": {
        "id": "rv8_q2GYugjm",
        "colab": {
          "base_uri": "https://localhost:8080/"
        },
        "outputId": "cd29bc85-875a-410e-e09f-b0efadd122d9"
      },
      "execution_count": null,
      "outputs": [
        {
          "output_type": "stream",
          "name": "stdout",
          "text": [
            "Input Address: Z Block, Voltas Premises, TB Kadam Marg, Chinchpokli, Mumbai, Maharashtra, 400011\n",
            "The address is proper with a probability of 1.00.\n"
          ]
        }
      ]
    },
    {
      "cell_type": "code",
      "source": [],
      "metadata": {
        "id": "wKu7pledwBi9"
      },
      "execution_count": null,
      "outputs": []
    }
  ]
}